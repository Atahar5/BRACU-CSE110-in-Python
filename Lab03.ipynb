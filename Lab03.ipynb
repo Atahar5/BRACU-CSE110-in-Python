{
 "cells": [
  {
   "cell_type": "markdown",
   "metadata": {},
   "source": [
    "# CSE110 Assignment 3\n",
    "\n"
   ]
  },
  {
   "cell_type": "markdown",
   "metadata": {},
   "source": [
    "\n",
    "## Write the Python code of the following problems:\n",
    "\n",
    "**<font color='red'>[MUST MAINTAIN VARIABLE NAMING CONVENTIONS FOR ALL THE TASKS]</font>**\n",
    "\n",
    "## Part 1: String\n",
    "\n",
    "\n",
    "\n"
   ]
  },
  {
   "cell_type": "markdown",
   "metadata": {},
   "source": [
    "### Task 1 \n",
    "\n",
    "Write a Python program that will ask the user to input a string (containing exactly one word). Then your program should print a subsequent substring of the given string.\n",
    "\n",
    "**Example1:**\\\n",
    "Input: BANGLA\\\n",
    "Output:\\\n",
    "B\\\n",
    "BA\\\n",
    "BAN\\\n",
    "BANG\\\n",
    "BANGL\\\n",
    "BANGLA\n",
    "\n",
    "**Example2:**\\\n",
    "Input: DREAM\\\n",
    "Output:\\\n",
    "D\\\n",
    "DR\\\n",
    "DRE\\\n",
    "DREA\\\n",
    "DREAM\n",
    "\n",
    "**Hints(1):** Need to use \"for loop\" for this task.\n",
    "\n",
    "**Hints(2):** Need to use print() function for prnting newlines.\n",
    "\n",
    "For example:\\\n",
    "print(1)\\\n",
    "print(2)\n",
    "\n",
    "Output:\\\n",
    "1\\\n",
    "2\n",
    "\n",
    "=====================================================================\n",
    "\n",
    "We need use print(end = \"\") to skip printing the additional newline.\n",
    "\n",
    "For example:\\\n",
    "print(1, end =\" \")\\\n",
    "print(2)\n",
    "\n",
    "Output:(prints the next output right to the previous one)\\\n",
    "12\n",
    "\n",
    "=====================================================================\n",
    "\n",
    "\n",
    "\n",
    "\n"
   ]
  },
  {
   "cell_type": "code",
   "execution_count": 1,
   "metadata": {},
   "outputs": [
    {
     "name": "stdout",
     "output_type": "stream",
     "text": [
      "enter a word :dream\n",
      "d\n",
      "dr\n",
      "dre\n",
      "drea\n",
      "dream\n"
     ]
    }
   ],
   "source": [
    "#Todo\n",
    "input = input('enter a word :')\n",
    "for i in range (len(input)):\n",
    "    print(input[:i+1])\n",
    "    "
   ]
  },
  {
   "cell_type": "markdown",
   "metadata": {},
   "source": [
    "### Task 2\n",
    "\n",
    "Write a Python program that will ask the user to enter two strings (s1, s2) as an input. Then create a mixed string with alternative characters from each string. Any leftover chars will be appended at the end of the result string.\n",
    "\n",
    "**Example 1:**\\\n",
    "Input:\\\n",
    "\"ABCD\"\\\n",
    "\"efgh\"\n",
    "\n",
    "Output:\\\n",
    "AeBfCgDh\n",
    "\n",
    "**Example 2:**\\\n",
    "Input:\\\n",
    "\"ABCDENDFGH\"\\\n",
    "\"ijkl\"\n",
    "\n",
    "Output:\\\n",
    "AiBjCkDlENDFGH\n",
    "\n",
    "**Example 3:**\\\n",
    "Input:\\\n",
    "\"ijkl\"\\\n",
    "\"ABCDENDFGH\"\n",
    "\n",
    "Output:\\\n",
    "iAjBkClDENDFGH\n",
    "\n",
    "*Hint: For adding the leftover characters use string slicing.*\n",
    "\n",
    "\n"
   ]
  },
  {
   "cell_type": "code",
   "execution_count": 2,
   "metadata": {},
   "outputs": [
    {
     "name": "stdout",
     "output_type": "stream",
     "text": [
      "enter the first word: ijkl\n",
      "enter another word: ABCDENDFGH\n",
      "iAjBkClDENDFGH\n"
     ]
    }
   ],
   "source": [
    "#Todo\n",
    "num1= input('enter the first word: ')\n",
    "num2 = input('enter another word: ')\n",
    "count = ''\n",
    "i=0\n",
    "j=0\n",
    "while (i<len(num1) or j<len(num2)):\n",
    "    if (i < len(num1)) :\n",
    "        count+= num1[i]\n",
    "        i+=1\n",
    "    if j < len(num2):\n",
    "        count+=num2[j]\n",
    "        j+=1\n",
    "print(count)"
   ]
  },
  {
   "cell_type": "markdown",
   "metadata": {},
   "source": [
    "### Task3\n",
    "\n",
    "Write a Python program that will ask the user to enter a  word as an input. If the length of the input string is less than 4, then your program should print the same string as an output. If the input string’s length is greater than 3, then your program should add “er” at the end of the input string. If the input string already ends with “er”, then add “est” instead. If the input string already ends with “est”, then your program should print the same string as an output.\n",
    "\n",
    "**Example 1:**\\\n",
    "Input: strong\\\n",
    "Output: stronger\n",
    "\n",
    "**Example 2:**\\\n",
    "Input: stronger\\\n",
    "Output: strongest\n",
    "\n",
    "**Example 3:**\\\n",
    "Input: strongest\\\n",
    "Output: strongest\n",
    "\n",
    "**Example 4:**\\\n",
    "Input: abc\\\n",
    "Output: abc\n"
   ]
  },
  {
   "cell_type": "code",
   "execution_count": 3,
   "metadata": {},
   "outputs": [
    {
     "name": "stdout",
     "output_type": "stream",
     "text": [
      "enter a word:strong\n",
      "stronger\n"
     ]
    }
   ],
   "source": [
    "#Todo\n",
    "word = input('enter a word:')\n",
    "\n",
    "if (len(word) <4  ):\n",
    "    print(word)\n",
    "    \n",
    "else:\n",
    "    if word[-3:]=='est':\n",
    "        print(word)\n",
    "        \n",
    "    elif word[-2:] == 'er' :\n",
    "        print(word[:-2]+'est')\n",
    "        \n",
    "    else:\n",
    "        print(word + 'er')\n",
    "        "
   ]
  },
  {
   "cell_type": "markdown",
   "metadata": {},
   "source": [
    "### Task4\n",
    "\n",
    "Write a Python program that will ask the user to input a string (containing exactly one word). Then print code for each character in the String using the ord() function. Use any means necessary.\n",
    "\n",
    "To check if your program is working correctly or not, you can find a list of all correct values from the following website. Look at “Dec” and “Char” columns only, ignore other columns.\\\n",
    "link: http://www.asciitable.com/\n",
    "\n",
    "**Example 1:**\\\n",
    "Input: Programming\\\n",
    "Output:\\\n",
    "P : 80\\\n",
    "r : 114\\\n",
    "o : 111\\\n",
    "g : 103\\\n",
    "r : 114\\\n",
    "a : 97\\\n",
    "m : 109\\\n",
    "m : 109\\\n",
    "i : 105\\\n",
    "n : 110\\\n",
    "g : 103\n",
    "\n",
    "**Example 2:**\\\n",
    "Input: hunger\\\n",
    "Output:\\\n",
    "h : 104\\\n",
    "u : 117\\\n",
    "n : 110\\\n",
    "g : 103\\\n",
    "e : 101\\\n",
    "r : 114 "
   ]
  },
  {
   "cell_type": "code",
   "execution_count": 1,
   "metadata": {},
   "outputs": [
    {
     "name": "stdout",
     "output_type": "stream",
     "text": [
      "enter a word : hunger\n",
      "h : 104\n",
      "u : 117\n",
      "n : 110\n",
      "g : 103\n",
      "e : 101\n",
      "r : 114\n"
     ]
    }
   ],
   "source": [
    "#Todo\n",
    "Word = input(\"enter a word : \")\n",
    "for i in Word:\n",
    "    print(i + ' : '+(str(ord(i))))"
   ]
  },
  {
   "cell_type": "markdown",
   "metadata": {},
   "source": [
    "### Task5\n",
    "\n",
    "Given a word as input in small letters, print the next alphabet in sequence for each alphabet found in the input.\n",
    "\n",
    "**Example1:**\\\n",
    "Input: abcd\\\n",
    "Output: bcde\n",
    "\n",
    "**Example2:**\\\n",
    "Input: the cow\\\n",
    "Output: uif!dpx\n",
    "\n",
    "**Example3: <font color='red'>[Must fulfil this criteria]</font>**\\\n",
    "Input: xyzabc\\\n",
    "Output: yzabcd\n",
    "\n",
    "*Hint: You need to use functions ord() and chr(). The ASCII value of ‘a’ is 97 and ‘z’ is 122.*\n"
   ]
  },
  {
   "cell_type": "code",
   "execution_count": 17,
   "metadata": {},
   "outputs": [
    {
     "name": "stdout",
     "output_type": "stream",
     "text": [
      "enter a word:xyzabc\n",
      "yzabcd\n"
     ]
    }
   ],
   "source": [
    "#Todo\n",
    "input = input('enter a word:')\n",
    "new_word = ''\n",
    "for i in input:\n",
    "    decimal = ord(i) +1\n",
    "    if decimal > 122 :\n",
    "        decimal = 97\n",
    "    new_word+=chr(decimal)\n",
    "print(new_word)"
   ]
  },
  {
   "cell_type": "markdown",
   "metadata": {},
   "source": [
    "### Task6\n",
    "Given a string, create a new string with all the consecutive duplicates removed. \n",
    "\n",
    "**Example:**\\\n",
    "Input:\\\n",
    "AAABBBBCDDBBECE\\\n",
    "Output:\\\n",
    "ABCDBECE\n",
    "\n",
    "*Hint: You need to make a new string to store your answer. Check whether the current character and the next character are the same, then add that character to the answer.*\n",
    "\n"
   ]
  },
  {
   "cell_type": "code",
   "execution_count": 2,
   "metadata": {},
   "outputs": [
    {
     "name": "stdout",
     "output_type": "stream",
     "text": [
      "type a word : AAABBBBCDDBBECE\n",
      "ABCDBECE"
     ]
    }
   ],
   "source": [
    "n = str(input('type a word : '))\n",
    "for i in range(len(n)):\n",
    "    if n[i-1]!=n[i]:\n",
    "        print(n[i],end='')"
   ]
  },
  {
   "cell_type": "markdown",
   "metadata": {},
   "source": [
    "## Part 2: List\n"
   ]
  },
  {
   "cell_type": "markdown",
   "metadata": {},
   "source": [
    "### Task 7\n",
    "Write a Python program that reads 10 numbers from the user. After reading each number, print all the numbers that have been entered so far. \n",
    "\n",
    "**Example:**\\\n",
    "After the user enters 3, prints “So far in the list: [3]”\\\n",
    "After the user enters 5, prints “So far in the list: [3, 5]”\\\n",
    "After the user enters 34, prints “So far in the list: [3, 5, 34]”\n"
   ]
  },
  {
   "cell_type": "code",
   "execution_count": 12,
   "metadata": {},
   "outputs": [
    {
     "name": "stdout",
     "output_type": "stream",
     "text": [
      "3\n",
      "so far in the list :[3]\n",
      "5\n",
      "so far in the list :[3, 5]\n",
      "34\n",
      "so far in the list :[3, 5, 34]\n",
      "1\n",
      "so far in the list :[3, 5, 34, 1]\n",
      "2\n",
      "so far in the list :[3, 5, 34, 1, 2]\n",
      "5\n",
      "so far in the list :[3, 5, 34, 1, 2, 5]\n",
      "4\n",
      "so far in the list :[3, 5, 34, 1, 2, 5, 4]\n",
      "77\n",
      "so far in the list :[3, 5, 34, 1, 2, 5, 4, 77]\n",
      "11\n",
      "so far in the list :[3, 5, 34, 1, 2, 5, 4, 77, 11]\n",
      "22\n",
      "so far in the list :[3, 5, 34, 1, 2, 5, 4, 77, 11, 22]\n"
     ]
    }
   ],
   "source": [
    "#Todo\n",
    "list = []\n",
    "for i in range (10):\n",
    "    value = int(input())\n",
    "    list.append(value)\n",
    "    print('so far in the list :'+str(list))"
   ]
  },
  {
   "cell_type": "markdown",
   "metadata": {},
   "source": [
    "### Task 8\n",
    "Assume, you have been given a list.\n",
    "\n",
    "a_list =  [10, 20, 24, 25, 26, 35, 70]\n",
    "\n",
    "Write a Python program that creates a new list excluding the first and last two elements of the given list and prints the new list. \n",
    "\n",
    "Output: [24, 25, 26]\n",
    "\n",
    "\n",
    "*Hint:You need to use list slicing.*\n"
   ]
  },
  {
   "cell_type": "code",
   "execution_count": 16,
   "metadata": {},
   "outputs": [
    {
     "name": "stdout",
     "output_type": "stream",
     "text": [
      "[24, 25, 26]\n"
     ]
    }
   ],
   "source": [
    "#Todo\n",
    "Mylist = [10,20,24,25,26,35,70]\n",
    "new_list = Mylist[2:5:1]\n",
    "print(new_list)"
   ]
  },
  {
   "cell_type": "markdown",
   "metadata": {},
   "source": [
    "### Task 9\n",
    "Assume, you have been given two lists. \n",
    "\n",
    "list_one = [1, 2, 3, 4, 5, 6, 7, 8, 9]\\\n",
    "list_two = [10, 11, 12, -13, -14, -15, -16]\n",
    "\n",
    "Write a Python program that creates a new list with all the even elements of both of the given lists and prints the new list.\n",
    "\n",
    "\n",
    "Output: [2, 4, 6, 8, 10, 12, -14, -16]\n",
    "\n",
    "*Hint: You need to create a third list to store the even elements of the given lists.*\n",
    "\n"
   ]
  },
  {
   "cell_type": "code",
   "execution_count": 4,
   "metadata": {},
   "outputs": [
    {
     "name": "stdout",
     "output_type": "stream",
     "text": [
      "[2, 4, 6, 8, 10, 12, -14, -16]\n"
     ]
    }
   ],
   "source": [
    "l1 = [1, 2, 3, 4, 5, 6, 7, 8, 9]\n",
    "l2 = [10, 11, 12, -13, -14, -15, -16]\n",
    "ls=l1+l2\n",
    "lsr=[]\n",
    "for i in ls:\n",
    "    if i%2==0:\n",
    "        lsr.append(i)\n",
    "print(lsr)"
   ]
  },
  {
   "cell_type": "markdown",
   "metadata": {},
   "source": [
    "### Task 10\n",
    "\n",
    "Assume, you have been given two lists.\\\n",
    "list_one = [1, 2 , 2, 4, 5, 5, 7, 99, 200, 303, 70]\\\n",
    "list_two = [1, 1, 2, 3, 3, 3, 4, 5, 200, 500, -5]\n",
    "\n",
    "Write a Python program that creates a new list with all the unique elements of both the given lists. You make sure no duplicates are in the result list and finally print the result list.\n",
    "\n",
    "Output: \n",
    "[1, 2, 4, 5, 7, 99, 200, 303, 70, 3, 500, -5]\n",
    "\n",
    "*Hint:You need to create a third list to store the results. Use membership operators (in, not in) to make sure no duplicates are added.*\n",
    "\n"
   ]
  },
  {
   "cell_type": "code",
   "execution_count": 8,
   "metadata": {},
   "outputs": [
    {
     "name": "stdout",
     "output_type": "stream",
     "text": [
      "[1, 2, 4, 5, 7, 99, 200, 303, 70, 3, 500, -5]\n"
     ]
    }
   ],
   "source": [
    "#Todo\n",
    "list_one = [1, 2 , 2, 4, 5, 5, 7, 99, 200, 303, 70]\n",
    "list_two = [1, 1, 2, 3, 3, 3, 4, 5, 200, 500, -5]\n",
    "new_list = []\n",
    "for i in list_one :\n",
    "    if i not in new_list:\n",
    "        new_list.append(i)\n",
    "for i in list_two:\n",
    "    if i not in new_list:\n",
    "        new_list.append(i)\n",
    "print(new_list)\n"
   ]
  },
  {
   "cell_type": "markdown",
   "metadata": {},
   "source": [
    "### Task 11\n",
    "\n",
    "Write a Python program that reads 5 numbers into a list and prints the largest number and its location on the list. <font color='red'>[You are not allowed to use the max() function here]</font>\n",
    "\n",
    "**Example:**\\\n",
    "Input: 7, 13, 2, 10, 6\\\n",
    "Output:\\\n",
    "“list: [7, 13, 2, 10, 6]”\\\n",
    "“Largest number 13 was found at location 1”.\n",
    "\n",
    "*Hint: Assume, the first input to be the largest value initially and the location of first input which is 0 to be the initial value of the largest value’s location.\n",
    "You need to be careful while printing the output. Depending on your code might need data conversion.*\n"
   ]
  },
  {
   "cell_type": "code",
   "execution_count": 11,
   "metadata": {},
   "outputs": [
    {
     "name": "stdout",
     "output_type": "stream",
     "text": [
      "enter a number : 7\n",
      "enter a number : 13\n",
      "enter a number : 2\n",
      "enter a number : 10\n",
      "enter a number : 6\n",
      "list :  [7, 13, 2, 10, 6]\n",
      "largest value is : 13\n",
      "Largest number was found at :  1\n"
     ]
    }
   ],
   "source": [
    "#Todo\n",
    "list = []\n",
    "n=5\n",
    "largest = 0\n",
    "for i in range(1,n+1):\n",
    "    number = int(input('enter a number : '))\n",
    "    list.append(number)\n",
    "    if number>largest:\n",
    "        largest = number\n",
    "print('list : ' ,list)\n",
    "print('largest value is :', largest)\n",
    "print('Largest number was found at : ' ,list.index(largest) )"
   ]
  },
  {
   "cell_type": "markdown",
   "metadata": {},
   "source": [
    "### Task 12\n",
    "\n",
    "Write a Python program that reads 5 numbers into a list and prints the smallest and largest number and their location in the list. <font color='red'>[You are not allowed to use the max() and min() function here]</font>\n",
    "\n",
    "**Example:**\\\n",
    "If the user enters 7, 13, -5, 10, 6 then your program should print\\\n",
    "“list: [7, 13, -5, 10, 6]”\\\n",
    "“Smallest number -5 was found at location 2”.\\\n",
    "“Largest number 13 was found at location 1”.\n",
    "\n",
    "*Hint: Assume, the first input to be the largest value and the location of the first input which is 0 to be the initial value of the largest value’s location. Similarly, assume the first input to be the smallest value and the location of the first input which is 0 to be the initial value of the smallest value’s location.\n",
    "You need to be careful while printing the output. Depending on your code might need data conversion.*\n"
   ]
  },
  {
   "cell_type": "code",
   "execution_count": 1,
   "metadata": {},
   "outputs": [
    {
     "name": "stdout",
     "output_type": "stream",
     "text": [
      "nums : 7\n",
      "nums : 13\n",
      "nums : -5\n",
      "nums : 10\n",
      "nums : 6\n",
      "list : [7, 13, -5, 10, 6]\n",
      "largest value is :  13\n",
      "location of largest value is :  1\n",
      "smallest value is :  -5\n",
      "location of smallest value is :  2\n"
     ]
    }
   ],
   "source": [
    "#Todo\n",
    "ls=[]\n",
    "for i in range(5):\n",
    "    n=int(input('nums : '))\n",
    "    ls.append(n)\n",
    "maxval=ls[0]\n",
    "minval=ls[0]\n",
    "for j in range(1,len(ls)):\n",
    "    if maxval<ls[j]:\n",
    "        maxval=ls[j]\n",
    "        max_idx=j\n",
    "    elif minval>ls[j]:\n",
    "        minval=ls[j]\n",
    "        min_idx=j\n",
    "print('list :' ,ls)\n",
    "print('largest value is : ' , maxval)\n",
    "print('location of largest value is : ' ,max_idx)\n",
    "print('smallest value is : ' ,minval)\n",
    "print('location of smallest value is : ' ,min_idx)\n"
   ]
  },
  {
   "cell_type": "code",
   "execution_count": 13,
   "metadata": {},
   "outputs": [
    {
     "name": "stdout",
     "output_type": "stream",
     "text": [
      "enter nums for list : 7,13,-5,10,6\n",
      "13\n"
     ]
    }
   ],
   "source": [
    "#finding the max value\n",
    "ls = input('enter nums for list : ').split(',')\n",
    "maxv = int(ls[0])\n",
    "for i in range(1,len(ls)):\n",
    "    if int(ls[i]) > maxv:\n",
    "        maxv = int(ls[i])\n",
    "print(maxv)"
   ]
  },
  {
   "cell_type": "code",
   "execution_count": null,
   "metadata": {},
   "outputs": [],
   "source": []
  }
 ],
 "metadata": {
  "kernelspec": {
   "display_name": "Python 3",
   "language": "python",
   "name": "python3"
  },
  "language_info": {
   "codemirror_mode": {
    "name": "ipython",
    "version": 3
   },
   "file_extension": ".py",
   "mimetype": "text/x-python",
   "name": "python",
   "nbconvert_exporter": "python",
   "pygments_lexer": "ipython3",
   "version": "3.7.6"
  }
 },
 "nbformat": 4,
 "nbformat_minor": 4
}
