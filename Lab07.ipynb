{
 "cells": [
  {
   "cell_type": "markdown",
   "metadata": {
    "colab_type": "text",
    "id": "oMYzsTcnHEll"
   },
   "source": [
    "# CSE110 Assignment 7\n",
    "\n",
    "\n",
    "## Write the Python code of the following problems:\n",
    "**<font color='red'>[MUST MAINTAIN VARIABLE NAMING CONVENTIONS FOR ALL THE TASKS]</font>**"
   ]
  },
  {
   "cell_type": "markdown",
   "metadata": {
    "colab_type": "text",
    "id": "jT-t2zlnHEll"
   },
   "source": [
    "### Task 1\n",
    "\n",
    "Given a list named my_list. <br/>\n",
    "my_list=[10,1,20,3,6,2,5,11,15,2,12,14,17,18,29] <br/>\n",
    "Now use bubble sort to sort my_list into ascending order.\n",
    "\n",
    "**Output**<br/>\n",
    "[1, 2, 2, 3, 5, 6, 10, 11, 12, 14, 15, 17, 18, 20, 29]"
   ]
  },
  {
   "cell_type": "code",
   "execution_count": 1,
   "metadata": {
    "colab": {},
    "colab_type": "code",
    "id": "7qXVakLgHElm"
   },
   "outputs": [
    {
     "name": "stdout",
     "output_type": "stream",
     "text": [
      "[1, 2, 2, 3, 5, 6, 10, 11, 12, 14, 15, 17, 18, 20, 29]\n"
     ]
    }
   ],
   "source": [
    "#Bubble_Sort\n",
    "my_list= [10,1,20,3,6,2,5,11,15,2,12,14,17,18,29]\n",
    "for i in range(len(my_list)-1): \n",
    "    for d in range(0,len(my_list)-i-1):  \n",
    "        if my_list[d]> my_list[d+1]: \n",
    "            tmp= my_list[d] \n",
    "            my_list[d]=my_list[d+1] \n",
    "            my_list[d+1]=tmp \n",
    "print(my_list)"
   ]
  },
  {
   "cell_type": "markdown",
   "metadata": {
    "colab_type": "text",
    "id": "w1QgeWd2HElp"
   },
   "source": [
    "### Task 2\n",
    "\n",
    "Given a list named my_list. <br/>\n",
    "my_list=[10,1,20,3,6,2,5,11,15,2,12,14,17,18,29] <br/>\n",
    "Now use selection sort to sort my_list into ascending order.\n",
    "\n",
    "**Output**<br/>\n",
    "[1, 2, 2, 3, 5, 6, 10, 11, 12, 14, 15, 17, 18, 20, 29]\n",
    "\n"
   ]
  },
  {
   "cell_type": "code",
   "execution_count": 2,
   "metadata": {
    "colab": {},
    "colab_type": "code",
    "id": "am0B_8ICHElq"
   },
   "outputs": [
    {
     "name": "stdout",
     "output_type": "stream",
     "text": [
      "[1, 2, 2, 3, 5, 6, 10, 11, 12, 14, 15, 17, 18, 20, 29]\n"
     ]
    }
   ],
   "source": [
    "#Selection_Sort\n",
    "my_list=[10,1,20,3,6,2,5,11,15,2,12,14,17,18,29]\n",
    "def selectionSort(order): \n",
    "  n = len(order) \n",
    "  for i in range(n): \n",
    "    mindx = i \n",
    "    for j in range(i+1, n): \n",
    "      if order[mindx] > order[j]: \n",
    "        mindx = j                \n",
    "    order[i], order[mindx] = order[mindx], order[i] \n",
    "selectionSort(my_list)\n",
    "print(my_list)"
   ]
  },
  {
   "cell_type": "markdown",
   "metadata": {
    "colab_type": "text",
    "id": "j4ffr2CAHElt"
   },
   "source": [
    "### Task  3\n",
    "\n",
    "Given a list named my_list. <br/>\n",
    "my_list=[10,1,20,3,6,2,5,11,15,2,12,14,17,18,29] <br/>\n",
    "Now use any of the two sorts used above to sort the list in descending order.\n",
    "\n",
    "**Output**<br/>\n",
    "[29, 20, 18, 17, 15, 14, 12, 11, 10, 6, 5, 3, 2, 2, 1]\n"
   ]
  },
  {
   "cell_type": "code",
   "execution_count": 3,
   "metadata": {
    "colab": {},
    "colab_type": "code",
    "id": "n2X3YR-_HElt"
   },
   "outputs": [
    {
     "name": "stdout",
     "output_type": "stream",
     "text": [
      "[29, 20, 18, 17, 15, 14, 12, 11, 10, 6, 5, 3, 2, 2, 1]\n"
     ]
    }
   ],
   "source": [
    "#Using Bubble_Sort for descending order\n",
    "my_list= [10,1,20,3,6,2,5,11,15,2,12,14,17,18,29]\n",
    "for i in range(len(my_list)-1): \n",
    "    for d in range(0,len(my_list)-i-1):  \n",
    "        if my_list[d]< my_list[d+1]: \n",
    "            tmp= my_list[d] \n",
    "            my_list[d]=my_list[d+1] \n",
    "            my_list[d+1]=tmp \n",
    "print(my_list)"
   ]
  },
  {
   "cell_type": "markdown",
   "metadata": {
    "colab_type": "text",
    "id": "9iYiiTWWHElw"
   },
   "source": [
    "### Task 4\n",
    "\n",
    "Suppose you have a sitting arrangement of the students of the final exam in a list. The list contains the last two digits of their roll number.<br/>\n",
    "\n",
    "sitting_list=[10,30,20,70,11,15,22,16,58,100,12,56,70,80] <br/>\n",
    "\n",
    "Now you want to organize the sitting arrangement. You decided to sort all the students in the even indices into ascending order and all the students in the odd indices  into descending order.  <br/>\n",
    "\n",
    "So write a python program that organizes the list for you the way you decided.<br/>\n",
    "\n",
    "\n",
    "**Sample Output**<br/>\n",
    "[10, 100, 11, 80, 12, 70, 20, 56, 22, 30, 58, 16, 70, 15]"
   ]
  },
  {
   "cell_type": "code",
   "execution_count": 4,
   "metadata": {
    "colab": {},
    "colab_type": "code",
    "id": "nPdUAKDJHElw"
   },
   "outputs": [
    {
     "name": "stdout",
     "output_type": "stream",
     "text": [
      "[10, 100, 11, 80, 12, 70, 20, 56, 22, 30, 58, 16, 70, 15]\n"
     ]
    }
   ],
   "source": [
    "#even=ascending\n",
    "#odd=descending\n",
    "minevenpos=0\n",
    "maxoddpos=0\n",
    "sitting_list=[10,30,20,70,11,15,22,16,58,100,12,56,70,80]\n",
    "for i in range(len(sitting_list)-1):\n",
    "    if i%2==0:\n",
    "        minevenpos=i\n",
    "    else:\n",
    "        maxoddpos=i\n",
    "    for j in range(i+1,len(sitting_list)):\n",
    "        if j%2==0 and i%2==0:\n",
    "            if sitting_list[j]<sitting_list[minevenpos]:\n",
    "                minevenpos=j\n",
    "        elif j%2!=0 and i%2!=0:\n",
    "            if sitting_list[j]>sitting_list[maxoddpos]:\n",
    "                maxoddpos=j\n",
    "    if i%2==0:\n",
    "        sitting_list[minevenpos],sitting_list[i]=sitting_list[i],sitting_list[minevenpos]\n",
    "    else:\n",
    "        sitting_list[maxoddpos],sitting_list[i]=sitting_list[i],sitting_list[maxoddpos]\n",
    "print(sitting_list)"
   ]
  },
  {
   "cell_type": "markdown",
   "metadata": {
    "colab_type": "text",
    "id": "oVR1Tsa0HElz"
   },
   "source": [
    "### Task 5\n",
    "\n",
    "Suppose a list contains the final exam results of CSE110, PHY111, and MAT110 of each student in a listed form. Your task is to sort the list based on a course name that will be given by the user and print the names after sorting. <br/>\n",
    "\n",
    "For example, a list looks like <br/>\n",
    "Lst = [ [‘Farzad’,95,87,91] , [‘Mahjabin’,92,90,83], [‘Sadman’,87,92,80], [‘Nakhla’,85,94,90] ] <br/>\n",
    "where for each list, 1st index is name, 2nd index is CSE110, 3rd index is PHY111 and 4th index is MAT110. \n",
    "\n",
    "**Sample Input**<br/>\n",
    "MAT110\n",
    "\n",
    "**Sample Output**<br/>\n",
    "Farzad <br/>\n",
    "Nakhla <br/>\n",
    "Mahjabin <br/>\n",
    "Sadman\n",
    "\n",
    "**Hint:**<br/>\n",
    "Nested list can be accessed by listname[firstIndex][secondIndex] like lst[0][0] will give Farzad\n"
   ]
  },
  {
   "cell_type": "code",
   "execution_count": 5,
   "metadata": {
    "colab": {},
    "colab_type": "code",
    "id": "539b2P1NHElz"
   },
   "outputs": [
    {
     "name": "stdout",
     "output_type": "stream",
     "text": [
      "Course Name please? :MAT110\n",
      "Farzad\n",
      "Nakhla\n",
      "Mahjabin\n",
      "Sadman\n"
     ]
    }
   ],
   "source": [
    "n=input('Course Name please? :')\n",
    "ls=[['Farzad',95,87,91],['Mahjabin',92,90,83],['Sadman',87,92,80],['Nakhla',85,94,90]]\n",
    "if n == 'MAT110':\n",
    "    idx =3\n",
    "elif n==\"PHY111\":\n",
    "    idx = 2\n",
    "elif n== 'CSE110':\n",
    "    idx=1\n",
    "for i in range(len(ls)-1):\n",
    "    for j in range(0,len(ls)-i-1):\n",
    "        if ls[j][idx]<ls[j+1][idx]:\n",
    "            temp = ls[j]\n",
    "            ls[j]=ls[j+1]\n",
    "            ls[j+1]=temp\n",
    "for i in range(len(ls)):\n",
    "    print(ls[i][0])"
   ]
  },
  {
   "cell_type": "markdown",
   "metadata": {
    "colab_type": "text",
    "id": "B0Rqbyi4HEl2"
   },
   "source": [
    "### Task 6\n",
    "\n",
    "Suppose you have a list named my_list. Your task is to sort the list and print the count of numbers that have changed their position. <br/>\n",
    "my_list = [4,2,3,1,6,5] <br/>\n",
    "Sorted list would be [1,2,3,4,5,6] where 4 numbers have changed their position.\n",
    "\n",
    "\n",
    "**Sample Output**<br/>\n",
    "4"
   ]
  },
  {
   "cell_type": "code",
   "execution_count": 6,
   "metadata": {
    "colab": {},
    "colab_type": "code",
    "id": "AMc8jAa7HEl2"
   },
   "outputs": [
    {
     "name": "stdout",
     "output_type": "stream",
     "text": [
      "[1, 2, 3, 4, 5, 6]\n",
      "4\n"
     ]
    }
   ],
   "source": [
    "#sort,count the position changed\n",
    "my_ls = [4,2,3,1,6,5]\n",
    "def count_sort (my_ls):\n",
    "  sorted_ls = my_ls\n",
    "  ln = len(my_ls)\n",
    "  temp, count = 0, 0\n",
    "  for i in range(ln):\n",
    "    changed = False\n",
    "    for j in range(i,ln):\n",
    "      if (sorted_ls[i] > sorted_ls[j]):\n",
    "        temp = sorted_ls[i]\n",
    "        sorted_ls[i] = sorted_ls[j]\n",
    "        sorted_ls[j] = temp\n",
    "        changed = True\n",
    "    if changed:\n",
    "      count += 1 \n",
    "  print(sorted_ls)\n",
    "  return count\n",
    "print(count_sort(my_ls))"
   ]
  },
  {
   "cell_type": "markdown",
   "metadata": {
    "colab_type": "text",
    "id": "iIH5n0sJHEl5"
   },
   "source": [
    "### Task 7\n",
    "\n",
    "Write a python program that takes two lists from the user, merges the two lists, sorts the list, and find the median of the elements of the two lists.\n",
    "\n",
    "**Sample Input 1**<br/>\n",
    "list_one= [1,2,1,4] <br/>\n",
    "list_two= [5,4,1]\n",
    "\n",
    "\n",
    "**Sample Output 1**<br/>\n",
    "Sorted list= [1, 1, 1, 2, 4, 4, 5] <br/>\n",
    "Median = 2\n",
    "\n",
    "**Sample Input 2**<br/>\n",
    "list_one= [1,7,9,10] <br/>\n",
    "list_two= [2,7,6,5]\n",
    "\n",
    "\n",
    "**Sample Output 2**<br/>\n",
    "Sorted list=[1, 2, 5, 6, 7, 7, 9, 10] <br/>\n",
    "Median=6.5\n",
    "\n"
   ]
  },
  {
   "cell_type": "code",
   "execution_count": 7,
   "metadata": {
    "colab": {},
    "colab_type": "code",
    "id": "KsFxC7XbHEl6"
   },
   "outputs": [
    {
     "name": "stdout",
     "output_type": "stream",
     "text": [
      "[1, 2, 5, 6, 7, 7, 9, 10]\n",
      "Median= 6.5\n"
     ]
    }
   ],
   "source": [
    "#merge,sort,median\n",
    "def sorted_median(list_one,list_two):\n",
    "    new_ls=list_one+list_two\n",
    "    n=len(new_ls)\n",
    "    for idx in range(len(new_ls)-1):\n",
    "        for i in range(0,len(new_ls)-idx-1):\n",
    "            if new_ls[i]>new_ls[i+1]:\n",
    "                new_ls[i],new_ls[i+1]=new_ls[i+1],new_ls[i]\n",
    "    print(new_ls)\n",
    "    if n%2==0:\n",
    "        median=int((new_ls[n//2]+new_ls[n//2-1]))/2\n",
    "        print('Median= '+str(median))\n",
    "    else:\n",
    "        median=int(new_ls[(n+1)//2])\n",
    "        print('Median= '+str(median))\n",
    "list_one=[1,7,9,10]\n",
    "list_two=[2,7,6,5]\n",
    "sorted_median(list_one,list_two)\n"
   ]
  },
  {
   "cell_type": "markdown",
   "metadata": {
    "colab_type": "text",
    "id": "-XKiwBR1HEl8"
   },
   "source": [
    "### Task 8\n",
    "\n",
    "\n",
    "Write a python program that takes a list from user containing both positive and negative numbers. The program then finds two pairs of values whose summation is closest to zero.\n",
    "\n",
    "**Sample Input 1**<br/>\n",
    "list_one=[-10,15,2,4,-4,7,-8] \n",
    "\n",
    "\n",
    "**Sample Output 1**<br/>\n",
    "Two pairs which have the smallest sum = 4 and -4\n",
    "\n",
    "\n",
    "**Sample Input 2**<br/>\n",
    "list_one=[1,-8,4,-7,-20,26,70,-85]\n",
    "\n",
    "\n",
    "**Sample Output 2**<br/>\n",
    "Two pairs which have the smallest sum = 4 and -7"
   ]
  },
  {
   "cell_type": "code",
   "execution_count": 8,
   "metadata": {
    "colab": {},
    "colab_type": "code",
    "id": "5ORSGa5GHEl9"
   },
   "outputs": [
    {
     "name": "stdout",
     "output_type": "stream",
     "text": [
      "please enter value :1,-8,4,-7,-20,26,70,-85\n",
      "Two pairs which have the smallest sum = 4 and -7\n"
     ]
    }
   ],
   "source": [
    "#which pair's sum is close to zero\n",
    "ls=[]\n",
    "l1=input('please enter value :').split(',')\n",
    "for value in l1:\n",
    "    ls.append(int(value))\n",
    "count=0\n",
    "min1=0\n",
    "min2=0\n",
    "min_sum=ls[0]+ls[1]\n",
    "for count in range(len(ls)-1):\n",
    "    for index in range(count+1,len(ls)):\n",
    "        sum=ls[count]+ls[index]\n",
    "        if min_sum<0:\n",
    "            min_sum=min_sum*(-1)\n",
    "        if sum<0:\n",
    "            sum=sum*(-1)\n",
    "        if min_sum>sum:\n",
    "            min_sum=sum\n",
    "            min1=count\n",
    "            min2=index\n",
    "print('Two pairs which have the smallest sum =',ls[min1],'and',ls[min2])"
   ]
  },
  {
   "cell_type": "code",
   "execution_count": null,
   "metadata": {},
   "outputs": [],
   "source": []
  }
 ],
 "metadata": {
  "colab": {
   "collapsed_sections": [],
   "name": "CSE110 Assignment07.ipynb",
   "provenance": []
  },
  "kernelspec": {
   "display_name": "Python 3",
   "language": "python",
   "name": "python3"
  },
  "language_info": {
   "codemirror_mode": {
    "name": "ipython",
    "version": 3
   },
   "file_extension": ".py",
   "mimetype": "text/x-python",
   "name": "python",
   "nbconvert_exporter": "python",
   "pygments_lexer": "ipython3",
   "version": "3.7.6"
  }
 },
 "nbformat": 4,
 "nbformat_minor": 1
}
