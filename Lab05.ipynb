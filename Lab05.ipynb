{
 "cells": [
  {
   "cell_type": "markdown",
   "metadata": {
    "colab_type": "text",
    "id": "mRHB9cBf5D7V"
   },
   "source": [
    "# CSE110 Assignment 5\n",
    "This assignment is to guide you to solve everything you have learned so far by implementing functions in Python. \n",
    "\n",
    "**<font color='red'>[MUST MAINTAIN VARIABLE NAMING CONVENTIONS FOR ALL THE TASKS]</font>**\n",
    "\n",
    "## Write the Python code of the following problems:\n"
   ]
  },
  {
   "cell_type": "markdown",
   "metadata": {
    "colab_type": "text",
    "id": "_uzpm0b85D7Z"
   },
   "source": [
    "### Task 1\n",
    "Write a function called **even_checker** that takes a number as an argument and prints whether the number is even or odd *inside the function*.\n",
    "\n",
    "**Example1:** \\\n",
    "**Function Call:**\\\n",
    "even_checker(5)\\\n",
    "**Output:**\\\n",
    "Odd!!\n",
    "\n",
    "=============================\n",
    "\n",
    "**Example2:** \\\n",
    "**Function Call:**\\\n",
    "even_checker(2)\\\n",
    "**Output:**\\\n",
    "Even!!\n",
    "\n"
   ]
  },
  {
   "cell_type": "code",
   "execution_count": 6,
   "metadata": {
    "colab": {},
    "colab_type": "code",
    "id": "tMMBecSe5D7a"
   },
   "outputs": [
    {
     "name": "stdout",
     "output_type": "stream",
     "text": [
      "type a number : 2\n",
      "Even!!\n"
     ]
    }
   ],
   "source": [
    "n= int(input('type a number : '))\n",
    "def even_checker(n):\n",
    "    if n%2==0:\n",
    "        print('Even!!')\n",
    "    else:\n",
    "        print('odd!!')\n",
    "even_checker(n)\n"
   ]
  },
  {
   "cell_type": "markdown",
   "metadata": {
    "colab_type": "text",
    "id": "YFKgn6Yw5D7f"
   },
   "source": [
    "### Task 2\n",
    "Write a python function that takes the limit as an argument of the Fibonacci series and prints till that limit. \n",
    "\n",
    "**Function Call:**\\\n",
    "fibonacci(10)\\\n",
    "**Output:**\\\n",
    "0 1 1 2 3 5 8\\\n",
    "======================\\\n",
    "**Function Call:**\\\n",
    "fibonacci(5)\\\n",
    "**Output:**\\\n",
    "0 1 1 2 3 5 "
   ]
  },
  {
   "cell_type": "code",
   "execution_count": 44,
   "metadata": {
    "colab": {},
    "colab_type": "code",
    "id": "J4ab_IeA5D7g"
   },
   "outputs": [
    {
     "name": "stdout",
     "output_type": "stream",
     "text": [
      "type a number : 10\n",
      "0 1 1 2 3 5 8 "
     ]
    }
   ],
   "source": [
    "n= int(input('type a number : '))\n",
    "def func(n):\n",
    "    sum=0\n",
    "    a=0\n",
    "    b=1\n",
    "    print(a,b,end=' ')\n",
    "    for i in range(n):\n",
    "            sum=a+b\n",
    "            if sum>n:\n",
    "                break\n",
    "            print(sum,end=' ')\n",
    "            a=b\n",
    "            b=sum               \n",
    "func(n)\n"
   ]
  },
  {
   "cell_type": "markdown",
   "metadata": {
    "colab_type": "text",
    "id": "rDY_xNcO5D7k"
   },
   "source": [
    "### Task 3\n",
    "Write a function called **foo_moo** that takes a number as an argument and **returns** the following statements according the below mention conditions. Then, finally prints the statement in the function call. \n",
    "\n",
    "* \tIf the number is divisible by 2, it should return \"Foo\".\n",
    "*   If the number is divisible by 3, it should return \"Moo\". \n",
    "*   If the number is divisible by both 2 and 3, it should return \"FooMoo\".\n",
    "*   Otherwise, it returns \"Boo\".\n",
    "\n",
    "**Example1:** \\\n",
    "**Function Call:**\\\n",
    "foo_moo(5)\\\n",
    "**Output:**\\\n",
    "Boo\n",
    "\n",
    "=================\n",
    "\n",
    "\n",
    "**Example2:** \\\n",
    "**Function Call:**\\\n",
    "foo_moo(4)\\\n",
    "**Output:**\\\n",
    "Foo\n",
    "\n",
    "=================\n",
    "\n",
    "\n",
    "**Example3:** \\\n",
    "**Function Call:**\\\n",
    "foo_moo(6)\\\n",
    "**Output:**\\\n",
    "FooMoo\n",
    "\n"
   ]
  },
  {
   "cell_type": "code",
   "execution_count": 19,
   "metadata": {
    "colab": {},
    "colab_type": "code",
    "id": "2roUcNrC5D7l"
   },
   "outputs": [
    {
     "name": "stdout",
     "output_type": "stream",
     "text": [
      "type a number : 6\n"
     ]
    },
    {
     "data": {
      "text/plain": [
       "'FooMoo'"
      ]
     },
     "execution_count": 19,
     "metadata": {},
     "output_type": "execute_result"
    }
   ],
   "source": [
    "n=int(input('type a number : '))\n",
    "def foo_moo(n):\n",
    "    if (n%2==0 and n%3==0):\n",
    "        return 'FooMoo'\n",
    "    elif n%2==0:\n",
    "        return 'Foo'\n",
    "    elif n%3==0:\n",
    "        return 'Moo'\n",
    "    else:\n",
    "        return 'Boo'\n",
    "(foo_moo(n))\n"
   ]
  },
  {
   "cell_type": "markdown",
   "metadata": {
    "colab_type": "text",
    "id": "nemw1U-i5D7s"
   },
   "source": [
    "### Task 4\n",
    "Write a python function that takes a string as an argument. Your task is to calculate the number of uppercase letters and lowercase letters and print them in the function. \n",
    "\n",
    "**Function Call:**\\\n",
    "function_name('The quick Sand Man')\\\n",
    "**Output:**\\\n",
    "No. of Uppercase characters : 3\\\n",
    "No. of Lowercase Characters: 12\\\n",
    "============================\\\n",
    "**Function Call:**\\\n",
    "function_name('HaRRy PotteR')\\\n",
    "**Output:**\\\n",
    "No. of Uppercase characters : 5\\\n",
    "No. of Lowercase Characters: 6\n"
   ]
  },
  {
   "cell_type": "code",
   "execution_count": 2,
   "metadata": {
    "colab": {},
    "colab_type": "code",
    "id": "4ZBb4Mcr5D7t"
   },
   "outputs": [
    {
     "name": "stdout",
     "output_type": "stream",
     "text": [
      "No. of Uppercase Characters :  1\n",
      "No. of Lowercase Characters :  4\n"
     ]
    }
   ],
   "source": [
    "def func(n):\n",
    "    hey=n.split()\n",
    "    uc=0\n",
    "    lc=0\n",
    "    for i in n:\n",
    "        if (ord(i)>=97 and ord(i)<=122):\n",
    "            lc+=1\n",
    "           \n",
    "        elif (ord(i)>=65 and ord(i)<=90):\n",
    "            uc+=1\n",
    "            \n",
    "    print('No. of Uppercase Characters : ' , uc)    \n",
    "    print('No. of Lowercase Characters : ' , lc) \n",
    "\n",
    "func('Happy')"
   ]
  },
  {
   "cell_type": "markdown",
   "metadata": {
    "colab_type": "text",
    "id": "e9bojIHe5D7w"
   },
   "source": [
    "### Task 5\n",
    "Write a function called **calculate_tax** that takes 3 arguments: your age, salary, and current job designation.\n",
    "\n",
    "\n",
    "Your first task is to take these arguments as user input and pass these values to the function.\n",
    "\n",
    "Your second task is to implement the function and calculate the tax as the following conditions:\n",
    "*  **NO TAX IF YOU ARE LESS THAN 18 YEARS OLD.**\n",
    "*  **NO TAX IF YOU ARE THE PRESIDENT OF THE COMPANY** \n",
    "*  No tax if you get paid less than 10,000\n",
    "*  5% tax if you get paid between 10K and 20K\n",
    "*  10% tax if you get paid more than 20K\n",
    "\n",
    "\n",
    "Finally return this tax value. Then print the returned value in the function call.\n",
    "\n",
    "**Example1:** \\\n",
    "**Input:**\\\n",
    "16\\\n",
    "20000\\\n",
    "Student\\\n",
    "**Function Call:**\\\n",
    "calculate_tax(16, 20000, 'Student')\\\n",
    "**Output:**\\\n",
    "0\n",
    "\n",
    "===================================\n",
    "\n",
    "**Example2:** \\\n",
    "**Input:**\\\n",
    "20\\\n",
    "18000\\\n",
    "assistant manager\\\n",
    "**Function Call:**\\\n",
    "calculate_tax(20, 18000, 'assistant manager')\\\n",
    "**Output:**\\\n",
    "900.0\n",
    "\n",
    "\n",
    "===================================\n",
    "\n",
    "**Example3:** \\\n",
    "**Input:**\\\n",
    "20\\\n",
    "22000\\\n",
    "assistant manager\\\n",
    "**Function Call:**\\\n",
    "calculate_tax(20, 22000, 'Assistant manager')\\\n",
    "**Output:**\\\n",
    "2200.0\n",
    "\n",
    "===================================\n",
    "\n",
    "\n",
    "**Example4:** \\\n",
    "**Input:**\\\n",
    "20\\\n",
    "122000\\\n",
    "president\\\n",
    "**Function Call:**\\\n",
    "calculate_tax(20, 122000, 'president')\\\n",
    "**Output:**\\\n",
    "0\n",
    " \n",
    "\n",
    "**Hints:**\\\n",
    "Here the job designation is a string, so it can be written in both uppercase and lower cases. So, you need to check the value ignoring the case.\n"
   ]
  },
  {
   "cell_type": "code",
   "execution_count": 4,
   "metadata": {
    "colab": {},
    "colab_type": "code",
    "id": "M4oo-FKQ5D7x"
   },
   "outputs": [
    {
     "name": "stdout",
     "output_type": "stream",
     "text": [
      "what is your age? : 24\n",
      "what is your salary? : 25999\n",
      "what is your job designation? : rjgrhjd\n",
      "2599.9\n"
     ]
    }
   ],
   "source": [
    "age= int(input('what is your age? : '))\n",
    "salary =int(input('what is your salary? : '))\n",
    "designation = input('what is your job designation? : ')\n",
    "def calculate_tax(age, salary,designation):\n",
    "    tax=0\n",
    "    if age<18:\n",
    "        tax=0\n",
    "    elif designation =='president':\n",
    "        tax=0\n",
    "    elif salary<10000:\n",
    "        tax=0\n",
    "    elif (salary>=10000 and salary<=20000):\n",
    "        tax=salary*(5/100)\n",
    "    elif salary>20000:\n",
    "        tax=salary*(10/100)\n",
    "    return tax\n",
    "\n",
    "print(calculate_tax(age,salary,designation))"
   ]
  },
  {
   "cell_type": "markdown",
   "metadata": {
    "colab_type": "text",
    "id": "VXLQHyLp5D71"
   },
   "source": [
    "### Task 6\n",
    "Write a function which will take 1 argument, number of days.\n",
    "\n",
    "Your first task is to take the number of days as user input and pass the value to the function.\n",
    " \n",
    "Your second task is to implement the function and calculate the total number of years, number of months, and the remaining number of days as output. No need to return any value, print inside the function. \n",
    "\n",
    "**Note:** Assume, each year to be 365 days and month to be 30 days.\n",
    "\n",
    "**Hint:** Divide and mod the main input to get the desired output.\n",
    "\n",
    "**Input:**\\\n",
    "4330\\\n",
    "**Function Call:**\\\n",
    "function_name(4330)\\\n",
    "**Output:**\\\n",
    "11 years, 10 months and 15 days\n",
    "\n",
    "================================\n",
    "\n",
    "**Input:**\\\n",
    "2250\\\n",
    "**Function Call:**\\\n",
    "function_name(2250)\\\n",
    "**Output:**\\\n",
    "6 years, 2 months and 0 days\n",
    "\n",
    "\n",
    "**Hints:** \\\n",
    "This task’s calculation is similar to Assignment-1’s seconds to hours, minutes conversion."
   ]
  },
  {
   "cell_type": "code",
   "execution_count": 24,
   "metadata": {
    "colab": {},
    "colab_type": "code",
    "id": "gkE9d9gs5D72"
   },
   "outputs": [
    {
     "name": "stdout",
     "output_type": "stream",
     "text": [
      "number of days? : 2250\n",
      "6 years, 2 months 0 days\n"
     ]
    }
   ],
   "source": [
    "n=int(input('number of days? : '))\n",
    "def func(n):\n",
    "    year=int(n/365)\n",
    "    n = n % 365\n",
    "    month=int(n/30)\n",
    "    day=n%30\n",
    "    print(year,'years,',month,'months',day,'days')\n",
    "func(n)"
   ]
  },
  {
   "cell_type": "markdown",
   "metadata": {
    "colab_type": "text",
    "id": "SMPiTBn-5D78"
   },
   "source": [
    "### Task 7\n",
    "Write a function called **splitting_money** that takes an “amount” of money as a argument.\n",
    "\n",
    "Your first task is to take the “amount” of money as user input and pass the value to the function paramater.\n",
    " \n",
    "Your second task is to implement the function and calculate how that money can be split into 500, 100, 50, 20, 10, 5, 2, and 1 taka notes.\n",
    "\n",
    "Then print the returned value in the function call.\n",
    "\n",
    "**Example1:** \\\n",
    "If the money is 1234, then the function should return \n",
    "\n",
    "\"500 Taka: 2 note(s) \\\n",
    "100 Taka: 2 note(s) \\\n",
    "20 Taka: 1 note(s) \\\n",
    "10 Taka: 1 note(s) \\\n",
    "2 Taka: 2 note(s)\"\n",
    "\n",
    "**Example2:** \\\n",
    "If the money is 151, then the function should return\n",
    "\n",
    "\"100 Taka: 1 note(s)\\\n",
    "50 Taka: 1 note(s)\\\n",
    "1 Taka: 1 note(s)\"\n",
    "\n",
    "\n",
    "**Hints:** \\\n",
    "This task’s calculation is similar to Assignment-1’s seconds to hours, minutes conversion. To return the result containing multiple strings, you need to store it in a variable and return it at the end of the function.\n"
   ]
  },
  {
   "cell_type": "code",
   "execution_count": 12,
   "metadata": {
    "colab": {},
    "colab_type": "code",
    "id": "WQS_DPXn5D79"
   },
   "outputs": [
    {
     "name": "stdout",
     "output_type": "stream",
     "text": [
      "amount of money : 1234\n",
      "500 Taka:  2 note(s)\n",
      "100 Taka:  2 note(s)\n",
      "20 Taka:  1 note(s)\n",
      "10 Taka:  1 note(s)\n",
      "2 Taka:  2 note(s)\n"
     ]
    }
   ],
   "source": [
    "n=int(input('amount of money : ')) \n",
    "def splitting_money(n):\n",
    "    note=[500,100,50,20,10,5,2,1]\n",
    "    c=[0,0,0,0,0,0,0,0]\n",
    "    for x in note:\n",
    "        for y in c:\n",
    "            if n>=x:\n",
    "                y=n//x\n",
    "                n=n%x\n",
    "                print(x,'Taka: ',y,'note(s)')\n",
    "    return\n",
    "   \n",
    "splitting_money(n)"
   ]
  },
  {
   "cell_type": "markdown",
   "metadata": {
    "colab_type": "text",
    "id": "8-vvES0i5D8B"
   },
   "source": [
    "### Task 8\n",
    "Write a function called **show_palindrome** that takes a number as an argument and then returns a palindrome string. Finally, prints the returned value in the function call.\n",
    "\n",
    "**Example1:** \\\n",
    "**Function Call:**\\\n",
    "show_palindrome(5)\\\n",
    "**Output:**\\\n",
    "123454321\n",
    "\n",
    "===================\n",
    "\n",
    "**Example2:** \\\n",
    "**Function Call:**\\\n",
    "show_palindrome(3)\\\n",
    "**Output:**\\\n",
    "12321\n"
   ]
  },
  {
   "cell_type": "code",
   "execution_count": 28,
   "metadata": {
    "colab": {},
    "colab_type": "code",
    "id": "QN-Iu8sz5D8C"
   },
   "outputs": [
    {
     "name": "stdout",
     "output_type": "stream",
     "text": [
      "enter a number : 3\n",
      "12321"
     ]
    }
   ],
   "source": [
    "n=int(input('enter a number : '))\n",
    "def show_palindrom(n):\n",
    "    for i in range(1,n+1):\n",
    "        print(i,end='')\n",
    "    for j in range(n-1,0,-1):\n",
    "        print(j,end='')\n",
    "\n",
    "show_palindrom(n)"
   ]
  },
  {
   "cell_type": "markdown",
   "metadata": {
    "colab_type": "text",
    "id": "V_PVNpx45D8F"
   },
   "source": [
    "### Task 9\n",
    "Write a function called **show_palindromic_triangle** that takes a number as a argument and prints a Palindromic Triangle in the function. \n",
    "\n",
    "\n",
    "**Example1:** \\\n",
    "**Function Call:**\\\n",
    "show_palindromic_triangle(5)\\\n",
    "**Output:**\n",
    "\n",
    "&emsp; &emsp; &emsp; &emsp; 1\\\n",
    "&emsp; &emsp; &emsp; 1 &nbsp; 2 &nbsp; 1 \\\n",
    "&emsp; &emsp; 1 &nbsp; 2 &nbsp; 3 &nbsp; 2 &nbsp; 1 \\\n",
    "&emsp; 1 &nbsp; 2 &nbsp; 3 &nbsp; 4 &nbsp; 3 &nbsp; 2 &nbsp; 1 \\\n",
    "1 &nbsp; 2 &nbsp; 3 &nbsp; 4 &nbsp; 5 &nbsp; 4 &nbsp; 3 &nbsp; 2 &nbsp; 1\n",
    "\n",
    "=============================================================\n",
    "\n",
    "\n",
    "**Example1:** \\\n",
    "**Function Call:**\\\n",
    "show_palindromic_triangle(3)\\\n",
    "**Output:**\n",
    "\n",
    "&emsp; &emsp; 1 \\\n",
    "&emsp; 1 &nbsp; 2 &nbsp; 1 \\\n",
    "1 &nbsp; 2 &nbsp; 3 &nbsp; 2 &nbsp; 1\n",
    "\n",
    "\n",
    "**Hints:** \\\n",
    "Need to use both print() and print( , end = \" \") functions"
   ]
  },
  {
   "cell_type": "code",
   "execution_count": 23,
   "metadata": {
    "colab": {},
    "colab_type": "code",
    "id": "fUu0BrHz5D8G"
   },
   "outputs": [
    {
     "name": "stdout",
     "output_type": "stream",
     "text": [
      "enter a number : 5\n",
      "     1\n",
      "\n",
      "    121\n",
      "\n",
      "   12321\n",
      "\n",
      "  1234321\n",
      "\n",
      " 123454321\n",
      "\n"
     ]
    }
   ],
   "source": [
    "n=int(input('enter a number : '))\n",
    "def show_palindromic_triangle(n):\n",
    "    gap=n\n",
    "    for line in range(1,n+1):\n",
    "        for space in range(1,gap+1):\n",
    "            print(' ',end='')\n",
    "        for i in range(1,line+1,1):\n",
    "            print(i,end='')\n",
    "        for j in range(line-1,0,-1):\n",
    "            print(j,end='')\n",
    "        print('\\n')\n",
    "        \n",
    "        gap=gap-1\n",
    "show_palindromic_triangle(n)"
   ]
  },
  {
   "cell_type": "markdown",
   "metadata": {
    "colab_type": "text",
    "id": "iLTMEWXg5D8M"
   },
   "source": [
    "### Task 10\n",
    "Write a function called **area_circumference_generator** that takes a radius of a circle as a  function parameter and calculates its circumference and area. Then returns these two results as a **tuple** and prints the results using tuple unpacking in the function call accorrding to the given format. <font color='red'>[Must use tuple packing & unpacking] </font> \n",
    "\n",
    "**Example1:** \\\n",
    "**Function Call:**\\\n",
    "area_circumference_generator(1)\\\n",
    "**Output:**\\\n",
    "(3.141592653589793, 6.283185307179586)\\\n",
    "Area of the circle is 3.141592653589793 and circumference is 6.283185307179586\n",
    "\n",
    "====================================\n",
    "\n",
    "**Example2:** \\\n",
    "**Function Call:**\\\n",
    "area_circumference_generator(1.5)\\\n",
    "**Output:**\\\n",
    "(7.0685834705770345, 9.42477796076938)\\\n",
    "Area of the circle is 7.0685834705770345 and circumference is 9.42477796076938\n",
    "\n",
    "====================================\n",
    "\n",
    "\n",
    "**Example3:** \\\n",
    "**Function Call:**\\\n",
    "area_circumference_generator(2.5)\\\n",
    "**Output:**\\\n",
    "(19.634954084936208, 15.707963267948966)\\\n",
    "Area of the circle is 19.634954084936208 and circumference is 15.707963267948966\n"
   ]
  },
  {
   "cell_type": "code",
   "execution_count": 45,
   "metadata": {
    "colab": {},
    "colab_type": "code",
    "id": "k8SLTHf35D8N"
   },
   "outputs": [
    {
     "name": "stdout",
     "output_type": "stream",
     "text": [
      "enter radius : 2.5\n",
      "(19.634954084936208, 15.707963267948966)\n",
      "Area of the circle is  19.634954084936208 and circumference is 15.707963267948966\n"
     ]
    }
   ],
   "source": [
    "rad=float(input('enter radius : '))\n",
    "def area_circumference_generator(rad):\n",
    "    result=((rad*rad* 3.141592653589793238),(2* 3.141592653589793238*rad))\n",
    "    (area,circumference)=result\n",
    "    print(result)\n",
    "    print(\"Area of the circle is \",area,\"and circumference is\",circumference)\n",
    "area_circumference_generator(rad)"
   ]
  },
  {
   "cell_type": "markdown",
   "metadata": {
    "colab_type": "text",
    "id": "NpgEU6ZI5D8S"
   },
   "source": [
    "### Task 11\n",
    "Write a function called **make_square** that takes a tuple in the parameter as a range of numbers (starting point and ending point (included)). The function should **return a dictionary** with the numbers as keys and its squares as values.\n",
    "\n",
    "**Example1:** \\\n",
    "**Function Call:**\\\n",
    "make_square((1,3))\\\n",
    "**Output:**\\\n",
    "{1: 1, 2: 4, 3: 9}\n",
    "\n",
    "====================================\n",
    "\n",
    "**Example2:** \\\n",
    "**Function Call:**\\\n",
    "make_square((5,9))\\\n",
    "**Output:**\\\n",
    "{5: 25, 6: 36, 7: 49, 8: 64, 9: 81}\n",
    "\n",
    "\n",
    "\n",
    "**Hints:** \\\n",
    "You need to declare a dictionary to store the result. You should use the range function to run the “for loop”.\n"
   ]
  },
  {
   "cell_type": "code",
   "execution_count": 35,
   "metadata": {
    "colab": {},
    "colab_type": "code",
    "id": "-KGD8b0F5D8T"
   },
   "outputs": [
    {
     "name": "stdout",
     "output_type": "stream",
     "text": [
      "enter a number : 1\n",
      "enter a number : 3\n",
      "{1: 1, 2: 4, 3: 9}\n"
     ]
    }
   ],
   "source": [
    "x=int(input('enter a number : '))\n",
    "y=int(input('enter a number : '))\n",
    "def make_square(x,y):\n",
    "    dic=dict()\n",
    "    for key in range(x,y+1):\n",
    "        dic[key]=key**2\n",
    "    print(dic)\n",
    "make_square(x,y)"
   ]
  },
  {
   "cell_type": "markdown",
   "metadata": {
    "colab_type": "text",
    "id": "ZSdXyrvP5D8X"
   },
   "source": [
    "### Task 12\n",
    "Write a function called **remove_odd** that takes a list of numbers that have both even and odd numbers mixed. \\\n",
    "Your function should remove all the odd numbers and **return a compact list** which only contains the even numbers. \n",
    "\n",
    "**Example1:** \\\n",
    "**Function Call:**\\\n",
    "remove_odd ([21, 33, 44, 66, 11, 1, 88, 45, 10, 9])\\\n",
    "**Output:**\\\n",
    "[44, 66, 88, 10]\n",
    "\n",
    "====================================\n",
    "\n",
    "**Example2:** \\\n",
    "**Function Call:**\\\n",
    "remove_odd ([11,2,3,4,5,2,0,5,3])\\\n",
    "**Output:**\\\n",
    "[2, 4, 2, 0]\n",
    "\n"
   ]
  },
  {
   "cell_type": "code",
   "execution_count": 30,
   "metadata": {
    "colab": {},
    "colab_type": "code",
    "id": "7gfZ__Nx5D8X"
   },
   "outputs": [
    {
     "name": "stdout",
     "output_type": "stream",
     "text": [
      "enter the limit : 9\n",
      "enter a number : 11\n",
      "[]\n",
      "enter a number : 2\n",
      "[2]\n",
      "enter a number : 3\n",
      "[2]\n",
      "enter a number : 4\n",
      "[2, 4]\n",
      "enter a number : 5\n",
      "[2, 4]\n",
      "enter a number : 2\n",
      "[2, 4, 2]\n",
      "enter a number : 0\n",
      "[2, 4, 2, 0]\n",
      "enter a number : 5\n",
      "[2, 4, 2, 0]\n",
      "enter a number : 3\n",
      "[2, 4, 2, 0]\n"
     ]
    }
   ],
   "source": [
    "def remove_odd(list):\n",
    "    list=[]\n",
    "    limit = int(input('enter the limit : '))\n",
    "    for i in range(0,limit):\n",
    "        i=int(input('enter a number : '))\n",
    "        if i%2==0:\n",
    "            list.append(i)\n",
    "        print(list)\n",
    "remove_odd(list)"
   ]
  },
  {
   "cell_type": "markdown",
   "metadata": {
    "colab_type": "text",
    "id": "J7xaBB5i5D8c"
   },
   "source": [
    "### Task 13\n",
    "Write a function called **rem_duplicate** that takes a tuple in the parameter and return a tuple removing all the duplicate values. Then print the returned tuple in the function call.\n",
    "\n",
    "**Example1:** \\\n",
    "**Function Call:**\\\n",
    "rem_duplicate((1,1,1,2,3,4,5,6,6,6,6,4,0,0,0))\\\n",
    "**Output:**\\\n",
    "(1, 2, 3, 4, 5, 6, 0)\n",
    "\n",
    "====================================\n",
    "\n",
    "**Example2:** \\\n",
    "**Function Call:**\\\n",
    "rem_duplicate((\"Hi\", 1, 2, 3, 3, \"Hi\",'a', 'a', [1,2]))\\\n",
    "**Output:**\\\n",
    "('Hi', 1, 2, 3, 'a', [1, 2])\n",
    "\n",
    "\n",
    "**Hints:** \\\n",
    "Unlike lists, tuples are immutable so, the tuple taken as an argument cannot be modified. But list can be modified and lastly for returning the result use type conversion. You need to use membership operators (in, not in) for preventing adding any duplicates values.\n"
   ]
  },
  {
   "cell_type": "code",
   "execution_count": 15,
   "metadata": {
    "colab": {},
    "colab_type": "code",
    "id": "mniLLbJY5D8d"
   },
   "outputs": [
    {
     "name": "stdout",
     "output_type": "stream",
     "text": [
      "enter the limit : 9\n",
      "enter what do you want? : Hi\n",
      "enter what do you want? : 1\n",
      "enter what do you want? : 2\n",
      "enter what do you want? : 3\n",
      "enter what do you want? : 4\n",
      "enter what do you want? : Hi\n",
      "enter what do you want? : a\n",
      "enter what do you want? : a\n",
      "enter what do you want? : [1,2]\n",
      "('Hi', '1', '2', '3', '4', 'a', '[1,2]')\n"
     ]
    }
   ],
   "source": [
    "\n",
    "def rem_duplicate(tuple):\n",
    "    list = []\n",
    "    list2=[]\n",
    "    tpl=tuple()\n",
    "    lim=int(input('enter the limit : '))\n",
    "    for i in range(0,lim):\n",
    "        i=input('enter what do you want? : ')\n",
    "        list.append(i)\n",
    "    for i in list:\n",
    "        if i not in list2:\n",
    "            list2.append(i)\n",
    "            tpl=tuple(list2)\n",
    "    print(tpl)\n",
    "rem_duplicate(tuple)"
   ]
  },
  {
   "cell_type": "markdown",
   "metadata": {
    "colab_type": "text",
    "id": "yJxb2yrb5D8h"
   },
   "source": [
    "### Task 14\n",
    "Write a python function that takes a list as an argument. Your task is to create a new list where **each element can be present at max 2 times**. Inside the function, print the number of elements removed from the given list. Finally, return the new list and print the result.\n",
    "\n",
    "**Hint:** Use list_name.count(element) to count the total number of times an element is in a list. list_name is your new list for this problem.\n",
    "\n",
    "**Function Call:**\\\n",
    "function_name([1, 2, 3, 3, 3, 3, 4, 5, 8, 8])\\\n",
    "**Output:**\\\n",
    "Removed: 2\\\n",
    "[1, 2, 3, 3, 4, 5, 8, 8]\\\n",
    "================================\\\n",
    "**Function Call:**\\\n",
    "function_name([10, 10, 15, 15, 20])\\\n",
    "**Output:**\\\n",
    "Removed: 0\\\n",
    "[10, 10, 15, 15, 20]"
   ]
  },
  {
   "cell_type": "code",
   "execution_count": 2,
   "metadata": {
    "colab": {},
    "colab_type": "code",
    "id": "URBhYdgt5D8h"
   },
   "outputs": [
    {
     "name": "stdout",
     "output_type": "stream",
     "text": [
      "[1, 2, 3, 3, 3, 3, 4, 5, 8, 8]\n",
      "removed odd number :  2\n",
      "[1, 2, 3, 3, 4, 5, 8, 8]\n"
     ]
    }
   ],
   "source": [
    "def func(list):\n",
    "    print(list)\n",
    "    list2=[]\n",
    "    for item in list:\n",
    "        if list2.count(item)<2:\n",
    "            list2.append(item)\n",
    "    result= len(list)-len(list2)\n",
    "    print('removed odd number : ',result)\n",
    "    return list2\n",
    "print(func([1,2,3,3,3,3,4,5,8,8]))"
   ]
  },
  {
   "cell_type": "markdown",
   "metadata": {
    "colab_type": "text",
    "id": "oZRJfnm85D8m"
   },
   "source": [
    "### Task 15\n",
    "Write a function which will take 4 arguments. They are:\n",
    "- starting value(inclusive)\n",
    "- ending value(exclusive)\n",
    "- first divisor\n",
    "- second divisor\n",
    "\n",
    "Your first task is to take these arguments as user input and pass these values to the function.\n",
    "\n",
    "Your second task is to implement the function and find all the numbers that are divisible by the <u>first divisor or second divisor but not both</u> from the starting value(inclusive) and ending value(exclusive). Add all the numbers that are divisible and finally return this value. Print the returned value in the function call.\n",
    "\n",
    "**Input:**\\\n",
    "10\\\n",
    "40\\\n",
    "4\\\n",
    "7\\\n",
    "**Function Call:**\\\n",
    "function_name(10, 40, 4, 7)\\\n",
    "**Output:**\\\n",
    "210\\\n",
    "================================\\\n",
    "**Input:**\\\n",
    "5\\\n",
    "100\\\n",
    "3\\\n",
    "4\\\n",
    "**Function Call:**\\\n",
    "function_name(5, 100, 3, 4)\\\n",
    "**Output:**\\\n",
    "2012\n",
    "\n",
    "\n"
   ]
  },
  {
   "cell_type": "code",
   "execution_count": 3,
   "metadata": {
    "colab": {},
    "colab_type": "code",
    "id": "WStErxZP5D8m"
   },
   "outputs": [
    {
     "name": "stdout",
     "output_type": "stream",
     "text": [
      "enter a starting value : 5\n",
      "enter a ending value : 100\n",
      "enter the first divisor : 3\n",
      "enter the second divisor : 4\n",
      "2012\n"
     ]
    }
   ],
   "source": [
    "a=int(input('enter a starting value : '))\n",
    "b=int(input('enter a ending value : '))\n",
    "x=int(input('enter the first divisor : '))\n",
    "y=int(input('enter the second divisor : '))\n",
    "def func(a,b,x,y):\n",
    "    total=0\n",
    "    for i in range(a,b):\n",
    "        if (i%x==0 or i%y==0):\n",
    "            if i%(x*y)!=0:\n",
    "                total+=i\n",
    "    print(total)\n",
    "func(a,b,x,y)"
   ]
  },
  {
   "cell_type": "markdown",
   "metadata": {
    "colab_type": "text",
    "id": "vqET24dk5D8u"
   },
   "source": [
    "### Task 16\n",
    "Write a python function that will perform the basic calculation (addition, subtraction, multiplication and division) based on 3 arguments. They are:\n",
    "- Operator ('+', '-', '/', '*')\n",
    "- First Operand (any number)\n",
    "- Second Operand (any number)\n",
    "\n",
    "Your first task is to take these arguments as user input and pass the values to the function parameters.\n",
    "\n",
    "Your second task is to write a function and performs the calculation based on the given operator. Then, finally return the result in the function call and print the result.\n",
    "\n",
    "**Input:**\\\n",
    "\"+\"\\\n",
    "10\\\n",
    "20\\\n",
    "**Function Call:**\\\n",
    "function_name(\"+\", 10, 20)\\\n",
    "**Output:**\\\n",
    "30\n",
    "\n",
    "================================\n",
    "\n",
    "**Input:**\\\n",
    "\"*\"\\\n",
    "5.5\\\n",
    "2.5\\\n",
    "**Function Call:**\\\n",
    "function_name(\"*\", 5.5, 2.5)\\\n",
    "**Output:**\\\n",
    "13.75\n"
   ]
  },
  {
   "cell_type": "code",
   "execution_count": 33,
   "metadata": {
    "colab": {},
    "colab_type": "code",
    "id": "sh7YQRv_5D8v"
   },
   "outputs": [
    {
     "name": "stdout",
     "output_type": "stream",
     "text": [
      "enter the operator : *\n",
      "enter a number : 5.5\n",
      "enter another number : 2.5\n",
      "13.75\n"
     ]
    }
   ],
   "source": [
    "a=input('enter the operator : ')\n",
    "b=float(input('enter a number : '))\n",
    "c=float(input('enter another number : '))\n",
    "def func(a,b,c):\n",
    "    if a=='+':\n",
    "        print(b+c)\n",
    "    elif a=='-':\n",
    "        if b<c:\n",
    "            print(c-b)\n",
    "        else:\n",
    "            print(b-c)\n",
    "    elif a=='*':\n",
    "        print(b*c)\n",
    "    elif a=='/':\n",
    "        if b<c:\n",
    "            print(c/b)\n",
    "        else:\n",
    "            print(b/c)\n",
    "func(a,b,c)\n",
    "        "
   ]
  },
  {
   "cell_type": "markdown",
   "metadata": {
    "colab_type": "text",
    "id": "j6RsRgJP5D8y"
   },
   "source": [
    "### Task 17\n",
    "Write a python function which will take a string as an argument. \n",
    "\n",
    "Your first task is to take a string as user input and pass the value to the function.\n",
    "\n",
    "Your second task is to implement a function which will check whether all the alphabets from a to j (convert all the alphabets to lowercase) has appeared at least once in the given string or not. \n",
    "- If all of these alphabets (a to j) appear at least once, then the result will be 5. \n",
    "- If any one of the alphabets (a to j) is not in the given string, then the result will be 6.\n",
    "\n",
    "Return this result and print the statement, \"Chelsea is the best club in England\" that many times.\n",
    "\n",
    "**Example:**\n",
    "\"A black jackal is hunting a full grown deer\" \n",
    "\n",
    "Here all the alphabets from A to J are present at least once. So, the function will return 5 and will print the statement 5 times.\n",
    "\n",
    "**Input:**\\\n",
    "\"A black jackal is hunting a full grown deer\"\\\n",
    "**Function Call:**\\\n",
    "function_name(\"A black jackal is hunting a full grown deer\")\\\n",
    "**Output:**\\\n",
    "Chelsea is the best club in England\\\n",
    "Chelsea is the best club in England\\\n",
    "Chelsea is the best club in England\\\n",
    "Chelsea is the best club in England\\\n",
    "Chelsea is the best club in England\n",
    "\n",
    "==============================================\n",
    "\n",
    "**Input:**\\\n",
    "\"ABBCDEFEFGHI\"\\\n",
    "**Function Call:**\\\n",
    "function_name(\"ABBCDEFEFGHI\")\\\n",
    "**Output:**\\\n",
    "Chelsea is the best club in England\\\n",
    "Chelsea is the best club in England\\\n",
    "Chelsea is the best club in England\\\n",
    "Chelsea is the best club in England\\\n",
    "Chelsea is the best club in England\\\n",
    "Chelsea is the best club in England\n"
   ]
  },
  {
   "cell_type": "code",
   "execution_count": 6,
   "metadata": {
    "colab": {},
    "colab_type": "code",
    "id": "8u2sBE7c5D8z"
   },
   "outputs": [
    {
     "name": "stdout",
     "output_type": "stream",
     "text": [
      "Enter a sentence : A black jackal is hunting a full grown deer\n",
      "Chelsea is the best club in England\n",
      "Chelsea is the best club in England\n",
      "Chelsea is the best club in England\n",
      "Chelsea is the best club in England\n",
      "Chelsea is the best club in England\n",
      "\n"
     ]
    }
   ],
   "source": [
    "def func(sentence):\n",
    "    alphabet = 'abcdefghij'\n",
    "    for i in alphabet:\n",
    "        if i in sentence:\n",
    "            output = 'Chelsea is the best club in England\\n' *5\n",
    "        else:\n",
    "            output='Chelsea is the best club in England\\n'*6\n",
    "        return output\n",
    "a= str(input('Enter a sentence : '))\n",
    "sentence=a.lower()\n",
    "print(func(sentence))"
   ]
  },
  {
   "cell_type": "markdown",
   "metadata": {
    "colab_type": "text",
    "id": "KGitjtfO5D83"
   },
   "source": [
    "### Task 18\n",
    "Write a function which will take 2 arguments. They are:\n",
    "- Sentence \n",
    "- position \n",
    "\n",
    "Your first task is to take these arguments as user input and pass these values to the function parameters.\n",
    "\n",
    "Your second task is to implement the function and remove the characters at the index number which is divisible by the position (Avoid the index number 0 as it will always be divisible by the position, so no need to remove the index 0 character). \n",
    "Finally, add the removed characters at the end of the new string.\n",
    "\n",
    "Return the value and then finally, print the new string at the function call.\n",
    "\n",
    "**Input:**\\\n",
    "\"I love programming.\"\\\n",
    "3\\\n",
    "**Function call:**\\\n",
    "function_name(\"I love programming.\", 3)\\\n",
    "**Output:**\\\n",
    "I lveprgrmmngo oai.\n",
    "\n",
    "==============================================\n",
    "\n",
    "**Input:**\\\n",
    "\"Python is easy to learn. I love python.\"\\\n",
    "6\\\n",
    "**Function call:**\\\n",
    "function_name(\"Python is easy to learn. I love python.\", 6)\\\n",
    "**Output:**\\\n",
    "Pythonis eay to earn.I lov pythn. sl eo\n"
   ]
  },
  {
   "cell_type": "code",
   "execution_count": 37,
   "metadata": {
    "colab": {},
    "colab_type": "code",
    "id": "1Op6YcHY5D84"
   },
   "outputs": [
    {
     "name": "stdout",
     "output_type": "stream",
     "text": [
      "type anything : Python is easy to learn. I love python.\n",
      "enter a number : 6\n",
      "Pythonis eay to earn.I lov pythn. sl eo\n"
     ]
    }
   ],
   "source": [
    "x=str(input('type anything : '))\n",
    "y=int(input('enter a number : '))\n",
    "def function_name(x,y):\n",
    "    str=''\n",
    "    str2=''\n",
    "    for i in range(1,len(x)):\n",
    "        if i%y==0:\n",
    "            str+=x[i]\n",
    "        elif i%y!=0:\n",
    "            str2+=x[i]\n",
    "    output=x[0]+str2+str\n",
    "    return output\n",
    "print(function_name(x,y))\n",
    "            "
   ]
  },
  {
   "cell_type": "markdown",
   "metadata": {
    "colab_type": "text",
    "id": "5Gq0ZAzQ5D8-"
   },
   "source": [
    "### Task 19\n",
    "You have been hired as an app developer for the company karon_tumi_bekar. The company plans to make an app for a grocery store where the user can order groceries and see the total amount to be paid in the cart section. \n",
    "\n",
    "To build this feature, you have to write a function that takes 2 arguments. They are:\n",
    "- order_items (must be a list)\n",
    "- location (default value should be set to \"Dhanmondi\")\n",
    "\n",
    "Your first task is to take a list of items from the user. Pass the list into the function parameter along with the optional location (Use default argument technique). (Also, no need to take location as input, pass this any value you want.) \n",
    "\n",
    "Your second task is to implement the function. In the function, create a dictionary for the items shown in the table. Calculate the total price of the items passed as a list to the function. Additionally, add a delivery fee of 30 taka if the location is Dhanmondi. Otherwise, add a delivery fee of 70 taka. Finally, return the value and print it.\n",
    "\n",
    "| Item | Price(Tk) |\n",
    "| --- | --- |\n",
    "| Rice | 105 |\n",
    "| Potato | 20 |\n",
    "| Chicken | 250 |\n",
    "| Beef | 510 |\n",
    "| Oil | 85 |\n",
    "\n",
    "**Hint:** The keys are the items and values are the corresponding price. Iterate the items in the list and check if the items in the list are available in the dictionary keys or not. If it is available, add the price.\n",
    "\n",
    "**Example:**\\\n",
    "function_name([\"Rice\", \"Beef\", \"Rice\"], \"Mohakhali\")\n",
    "\n",
    "total = 105 + 510 + 105 = 720 (Take the price of each item and add them.)\\\n",
    "total = 720 + 70 = 790 (Finally, add the delivery fee based on the location.)\n",
    "\n",
    "**Input:**\\\n",
    "[\"Rice\", \"Beef\", \"Rice\"]\\\n",
    "**Function Call:**\\\n",
    "function_name([\"Rice\", \"Beef\", \"Rice\"], \"Mohakhali\")\\\n",
    "**Output:**\\\n",
    "790\n",
    "\n",
    "==============================================\n",
    "\n",
    "**Input:**\\\n",
    "[\"Rice\", \"Beef\", \"Rice\"]\\\n",
    "**Function Call:**\\\n",
    "function_name([\"Rice\", \"Beef\", \"Rice\"])\\\n",
    "**Output:**\\\n",
    "750"
   ]
  },
  {
   "cell_type": "code",
   "execution_count": 5,
   "metadata": {
    "colab": {},
    "colab_type": "code",
    "id": "-vQ3gIWm5D8-"
   },
   "outputs": [
    {
     "name": "stdout",
     "output_type": "stream",
     "text": [
      "enter your elements : Rice,Beef,Rice\n",
      "750\n"
     ]
    }
   ],
   "source": [
    "n=input('enter your elements : ').split(',')\n",
    "def func(item,location='Dhanmondi'):\n",
    "    item = []\n",
    "    item.append(n)\n",
    "    dicti={'Rice':105,'Potato':20,'Chicken':250,'Beef':510,'Oil':85}\n",
    "    sum=0\n",
    "    total=0\n",
    "    for i in n:\n",
    "        for key,value in dicti.items():\n",
    "            if i==key:\n",
    "                if location!='Dhanmondi':\n",
    "                    sum+=value\n",
    "                    total=sum+70\n",
    "                else:\n",
    "                    sum+=value\n",
    "                    total=sum+30\n",
    "    return total\n",
    "print(func(n))"
   ]
  },
  {
   "cell_type": "markdown",
   "metadata": {
    "colab_type": "text",
    "id": "XGLNNSH25D9B"
   },
   "source": [
    "### Task 20\n",
    "You have been hired by the Abahani football club to write a function that will calculate the total bonus on the yearly earnings of each player for the total goals they have scored. Since the number of players will vary, you decide to use the \"*args\" technique that you learned in your CSE110 class. (No need to take any input from the user. Call the functions and print the values inside the function.) \n",
    "For each player: pass the name, yearly earning, the total goal scored this season, bonus percent per goal. Additionally, if the goal scored is above 30, add an extra bonus of 10000 taka. If it is between 20 and 30 inclusive, add an extra 5000 taka.\n",
    "\n",
    "**Example:**\\\n",
    "function_name(\"Neymar\", 1200000, 30, 10)\n",
    "\n",
    "bonus = 30 * (10 / 100 * 1200000) + 5000 = 3605000\n",
    "\n",
    "**Function call:**\\\n",
    "function_name(\"Neymar\", 1200000, 30, 10)\\\n",
    "**Output:**\\\n",
    "Neymar earned a bonus of 3605000 Taka for 30 goals.\n",
    "\n",
    "=====================================================\n",
    "\n",
    "**Function call:**\\\n",
    "function_name(\"Neymar\", 1200000, 30, 10, \"Jamal\", 700000, 19, 5)\\\n",
    "**Output:**\\\n",
    "Neymar earned a bonus of 3605000 Taka for 30 goals.\\\n",
    "Jamal earned a bonus of 665000 Taka for 19 goals.\n",
    "\n",
    "\n",
    "\n"
   ]
  },
  {
   "cell_type": "code",
   "execution_count": 34,
   "metadata": {
    "colab": {},
    "colab_type": "code",
    "id": "IIz3msUa5D9B"
   },
   "outputs": [
    {
     "name": "stdout",
     "output_type": "stream",
     "text": [
      "Neymar earned a bonus of 3605000 Taka for 30 goals.\n",
      "Jamal earned a bonus of 665000 Taka for 19 goals.\n"
     ]
    }
   ],
   "source": [
    "def fun(*args):\n",
    "    for i in args[::4]:\n",
    "        bonus=args[args.index(i)+2]*(((args[args.index(i)+3])/100)*args[args.index(i)+1])\n",
    "        if args[args.index(i)+2]>30:\n",
    "            bonus=bonus+10000\n",
    "        elif args[args.index(i)+2]>20:\n",
    "            bonus=bonus+5000\n",
    "        print(args[args.index(i)],\"earned a bonus of\",str(int(bonus)),\"Taka for\",args[args.index(i)+2],\"goals.\")\n",
    "fun(\"Neymar\",1200000,30,10,\"Jamal\",700000,19,5)"
   ]
  },
  {
   "cell_type": "code",
   "execution_count": 6,
   "metadata": {},
   "outputs": [
    {
     "name": "stdout",
     "output_type": "stream",
     "text": [
      "<class 'list'>\n"
     ]
    }
   ],
   "source": [
    "ar = ['avbb',2, [4,3]]\n",
    "print(type(ar))\n"
   ]
  },
  {
   "cell_type": "code",
   "execution_count": 8,
   "metadata": {},
   "outputs": [
    {
     "data": {
      "text/plain": [
       "[4, 3]"
      ]
     },
     "execution_count": 8,
     "metadata": {},
     "output_type": "execute_result"
    }
   ],
   "source": [
    "ar.pop()"
   ]
  },
  {
   "cell_type": "code",
   "execution_count": 9,
   "metadata": {},
   "outputs": [
    {
     "data": {
      "text/plain": [
       "2"
      ]
     },
     "execution_count": 9,
     "metadata": {},
     "output_type": "execute_result"
    }
   ],
   "source": [
    "ar.pop()"
   ]
  },
  {
   "cell_type": "code",
   "execution_count": 14,
   "metadata": {},
   "outputs": [
    {
     "name": "stdout",
     "output_type": "stream",
     "text": [
      "gas\n"
     ]
    }
   ],
   "source": [
    "def fun(name='gas'):\n",
    "    print(name)\n",
    "\n",
    "fun()"
   ]
  },
  {
   "cell_type": "code",
   "execution_count": 27,
   "metadata": {},
   "outputs": [],
   "source": [
    "class Node:\n",
    "    def __init__(self, da=None):\n",
    "        self.data = da  #n2.data=yeamin #n3.data=hasan\n",
    "        self.next = None\n",
    "\n",
    "class SingleLinked:\n",
    "    def __init__(self):\n",
    "        self.head = None\n",
    "\n",
    "lst = SingleLinked()\n",
    "\n",
    "n1 = Node('ahnaf')\n",
    "\n",
    "lst.head = n1\n",
    "\n",
    "n2 = Node('yeamin')\n",
    "\n",
    "n3 = Node('hasan')\n"
   ]
  },
  {
   "cell_type": "code",
   "execution_count": null,
   "metadata": {},
   "outputs": [],
   "source": [
    "n1.next= n2\n",
    "n2.next = n3"
   ]
  },
  {
   "cell_type": "code",
   "execution_count": 36,
   "metadata": {},
   "outputs": [
    {
     "name": "stdout",
     "output_type": "stream",
     "text": [
      "<__main__.Node object at 0x00000239988B2F20>\n",
      "<__main__.Node object at 0x00000239988B2F20>\n"
     ]
    }
   ],
   "source": [
    "print(lst.head)\n",
    "print(n1)"
   ]
  },
  {
   "cell_type": "code",
   "execution_count": 32,
   "metadata": {},
   "outputs": [
    {
     "data": {
      "text/plain": [
       "<__main__.Node at 0x239988b2f20>"
      ]
     },
     "execution_count": 32,
     "metadata": {},
     "output_type": "execute_result"
    }
   ],
   "source": [
    "lst.head  #lst.head==n1"
   ]
  },
  {
   "cell_type": "code",
   "execution_count": 37,
   "metadata": {},
   "outputs": [],
   "source": [
    "lst.head.next = n2 #n2.next=n1"
   ]
  },
  {
   "cell_type": "code",
   "execution_count": 38,
   "metadata": {},
   "outputs": [],
   "source": [
    "n2.next = n3"
   ]
  },
  {
   "cell_type": "code",
   "execution_count": 41,
   "metadata": {},
   "outputs": [],
   "source": [
    "class Node:\n",
    "    def __init__(self, d=None):\n",
    "        self.data = d\n",
    "        self.next = None\n",
    "\n",
    "n1 = Node('A')\n",
    "n2 = Node('B')\n",
    "n3 = Node('c')\n",
    "\n",
    "n1.next = n3\n",
    "n3.next = n2\n"
   ]
  },
  {
   "cell_type": "code",
   "execution_count": 42,
   "metadata": {},
   "outputs": [
    {
     "name": "stdout",
     "output_type": "stream",
     "text": [
      "B\n"
     ]
    }
   ],
   "source": [
    "print(n3.next.data)"
   ]
  },
  {
   "cell_type": "code",
   "execution_count": 104,
   "metadata": {},
   "outputs": [],
   "source": [
    "class Cousin:\n",
    "    def __init__(self, a_name,a_age):\n",
    "        self.name = a_name\n",
    "        self.age = a_age\n",
    "        self.link_cousin = None\n",
    "\n",
    "\n",
    "yeamin = Cousin(\"Yeamin\",23)\n",
    "ahnaf = Cousin('Ahnaf',23)\n",
    "rabita = Cousin(\"Rabita\",22)\n",
    "sabita = Cousin(\"Sabita\",32)"
   ]
  },
  {
   "cell_type": "code",
   "execution_count": 105,
   "metadata": {},
   "outputs": [],
   "source": [
    "yeamin.link_cousin = ahnaf\n",
    "ahnaf.link_cousin = rabita\n",
    "rabita.link_cousin = sabita"
   ]
  },
  {
   "cell_type": "code",
   "execution_count": 106,
   "metadata": {},
   "outputs": [
    {
     "data": {
      "text/plain": [
       "'Sabita'"
      ]
     },
     "execution_count": 106,
     "metadata": {},
     "output_type": "execute_result"
    }
   ],
   "source": [
    "yeamin.link_cousin.link_cousin.link_cousin.name"
   ]
  },
  {
   "cell_type": "code",
   "execution_count": 117,
   "metadata": {},
   "outputs": [
    {
     "name": "stdout",
     "output_type": "stream",
     "text": [
      "22 faswdwafawfwa 4231 Kader\n"
     ]
    }
   ],
   "source": [
    "class Father:\n",
    "    # def __init__(self, n):\n",
    "    #     self.name=n\n",
    "    def __init__(self,a,n,p,ad):\n",
    "        self.age =a  \n",
    "        self.address = ad\n",
    "        self.phone = p\n",
    "        self.name =n\n",
    "\n",
    "    def about(self):\n",
    "        print( self.age, self.address, self.phone,self.name,)\n",
    "\n",
    "Father(22,'Kader',4231,'faswdwafawfwa').about()\n",
    "\n"
   ]
  },
  {
   "cell_type": "code",
   "execution_count": 189,
   "metadata": {},
   "outputs": [
    {
     "name": "stdout",
     "output_type": "stream",
     "text": [
      "Ahnaf\n",
      "kader\n",
      "Amir\n"
     ]
    }
   ],
   "source": [
    "import datetime\n",
    "class Person:\n",
    "    def __init__(self, name, age):\n",
    "        self.name=name\n",
    "        self.age=age\n",
    "        self.father = None\n",
    "  \n",
    "    def birthday(self):\n",
    "        return datetime.datetime.now().year-self.age\n",
    "    \n",
    "kader=Person('kader', 50)\n",
    "ahnaf=Person('Ahnaf',22)\n",
    "amir=Person('Amir',95)\n",
    "\n",
    "\n",
    "class SinglyLinkedList:\n",
    "    def __init__(self,headValue=None):\n",
    "        self.head = headValue\n",
    "\n",
    "    #List Traversal- Singly\n",
    "    def show_list(self):\n",
    "        value = self.head\n",
    "\n",
    "        # for i in range(100):\n",
    "        #     if value != None:\n",
    "        #         print(value.name)\n",
    "        #         value = value.father\n",
    "        #     else:\n",
    "        #         break\n",
    "\n",
    "        while(value != None):\n",
    "            print(value.name)\n",
    "            value = value.father\n",
    "\n",
    "# s_list = SinglyLinkedList()\n",
    "# s_list.head = kader\n",
    "\n",
    "# s_list.head.father = kader\n",
    "# kader.father = amir\n",
    "\n",
    "# s_list.show_list()\n",
    "\n",
    "ahnaf.father = kader\n",
    "kader.father = amir\n",
    "\n",
    "value_to_print = ahnaf\n",
    "while(value_to_print!=None):\n",
    "    print(value_to_print.name)\n",
    "    value_to_print = value_to_print.father\n",
    "    \n",
    " "
   ]
  },
  {
   "cell_type": "code",
   "execution_count": 196,
   "metadata": {},
   "outputs": [
    {
     "name": "stdout",
     "output_type": "stream",
     "text": [
      "welcome Ahnaf\n"
     ]
    }
   ],
   "source": [
    "class Certificate:\n",
    "    name = 'yeamin'\n",
    "    def __init__(self, name, year):\n",
    "        self.name = name\n",
    "\n",
    "    def welcome(self):\n",
    "        print('welcome', self.name)\n",
    "    \n",
    "f=Certificate('Ahnaf',23)\n",
    "\n",
    "f.welcome()\n",
    "\n",
    "        "
   ]
  },
  {
   "cell_type": "code",
   "execution_count": 197,
   "metadata": {},
   "outputs": [
    {
     "name": "stdout",
     "output_type": "stream",
     "text": [
      "ka\n",
      "2\n"
     ]
    }
   ],
   "source": [
    "class Fam:\n",
    "    dad='ka'\n",
    "    ma='ko'\n",
    "    child=2\n",
    "details=Fam()\n",
    "print(details.dad)\n",
    "print(Fam.child)\n"
   ]
  },
  {
   "cell_type": "code",
   "execution_count": 73,
   "metadata": {},
   "outputs": [
    {
     "name": "stdout",
     "output_type": "stream",
     "text": [
      "<class '__main__.Fam'>\n"
     ]
    }
   ],
   "source": [
    "class Fam:\n",
    "    def __init__ (self,dad,ma,fami_member):\n",
    "        self.father=dad\n",
    "        self.mother=ma\n",
    "        self.fam_member=fami_member\n",
    "    def female(self,sis):\n",
    "        self.daughter=sis\n",
    "    def Died(self,name):\n",
    "        self.grandpa=name\n",
    "        return self.grandpa\n",
    "    def __str__(self):\n",
    "        return \n",
    "details=Fam('ka','ko',5)\n",
    "details.Died('Amir')\n",
    "print(type(details))"
   ]
  },
  {
   "cell_type": "code",
   "execution_count": 74,
   "metadata": {},
   "outputs": [
    {
     "name": "stdout",
     "output_type": "stream",
     "text": [
      "\n"
     ]
    }
   ],
   "source": [
    "class Robot: \n",
    "    def x(self,name):\n",
    "        self.robot_name=name\n",
    "    def y(self,color):\n",
    "        self.robot_color=color\n",
    "    def z(self, weight):\n",
    "        self.robot_weight=weight \n",
    "R=Robot()\n",
    "R.robot_name='name'\n",
    "R.robot_color='red'\n",
    "R.robot_weight=40\n",
    "print()"
   ]
  },
  {
   "cell_type": "code",
   "execution_count": 122,
   "metadata": {},
   "outputs": [
    {
     "name": "stdout",
     "output_type": "stream",
     "text": [
      "1\n",
      "2\n",
      "3\n",
      "4\n",
      "5\n",
      "6\n"
     ]
    }
   ],
   "source": [
    "a=[1,2,3,4,5,6]\n",
    "i=0\n",
    "while i<len(a):\n",
    "    print(a[i])\n",
    "    i+=1"
   ]
  },
  {
   "cell_type": "code",
   "execution_count": 75,
   "metadata": {},
   "outputs": [
    {
     "data": {
      "text/plain": [
       "[1, 66, 2, 4, 6, 0, 0, 0]"
      ]
     },
     "execution_count": 75,
     "metadata": {},
     "output_type": "execute_result"
    }
   ],
   "source": [
    "def func(array,index,value,size):\n",
    "    i=size-1\n",
    "    while (i>=index):\n",
    "        array[i+1]=array[i]\n",
    "        i-=1\n",
    "    array[index]=value\n",
    "    return array\n",
    "\n",
    "array=[1,2,3,4,6,0,0,0]\n",
    "func(array,1,66,2)\n",
    "\n"
   ]
  },
  {
   "cell_type": "code",
   "execution_count": 119,
   "metadata": {},
   "outputs": [
    {
     "data": {
      "text/plain": [
       "[50, 40, 30, 20, 10]"
      ]
     },
     "execution_count": 119,
     "metadata": {},
     "output_type": "execute_result"
    }
   ],
   "source": [
    "#reversing an array: out of place\n",
    "def reverse(source):\n",
    "    dest=[0]*len(source)  #creating an empty array named dest having the same length as source\n",
    "    i=0 #pointer at 0th index of source\n",
    "    j=len(dest)-1 #pointer at last index of dest\n",
    "    while(i<len(source)):\n",
    "        dest[j]=source[i] #copying element from source to dest\n",
    "        i=i+1\n",
    "        j=j-1\n",
    "    return dest #returning the array containing the elements in reverse order\n",
    "a=[10,20,30,40,50]\n",
    "reverse(a)\n"
   ]
  },
  {
   "cell_type": "code",
   "execution_count": 22,
   "metadata": {},
   "outputs": [
    {
     "name": "stdout",
     "output_type": "stream",
     "text": [
      "val location 4\n"
     ]
    }
   ],
   "source": [
    "def func(array,val):\n",
    "    found = 0\n",
    "    index=-1\n",
    "    for i in array:\n",
    "        index+=1\n",
    "        if i==val:\n",
    "            found=True\n",
    "            break\n",
    "        else:\n",
    "            continue\n",
    "    print('val location',index) if found else print('not found')\n",
    "array=[2,5,6,7,8]\n",
    "val=8\n",
    "func(array,val)\n",
    "\n"
   ]
  },
  {
   "cell_type": "code",
   "execution_count": 28,
   "metadata": {},
   "outputs": [
    {
     "name": "stdout",
     "output_type": "stream",
     "text": [
      "[1, 2, 66, 3, 4, 0, 0, 0]\n"
     ]
    }
   ],
   "source": [
    "#insert in array\n",
    "def func(array,index,value,size):\n",
    "    i=size-1\n",
    "    while (i>=index):\n",
    "        array[i+1]=array[i]\n",
    "        i-=1\n",
    "    array[index]=value\n",
    "    array[5]=0\n",
    "\n",
    "array=[1,2,3,4,6,0,0,0]\n",
    "func(array,2,66,7)\n",
    "print(array)"
   ]
  },
  {
   "cell_type": "code",
   "execution_count": 81,
   "metadata": {},
   "outputs": [
    {
     "data": {
      "text/plain": [
       "[50, 40, 30, 20, 10]"
      ]
     },
     "execution_count": 81,
     "metadata": {},
     "output_type": "execute_result"
    }
   ],
   "source": [
    "#Start\n",
    "#reverse array without copying\n",
    "def func(a):\n",
    "    i=0\n",
    "    j=len(a)-1 #5\n",
    "    while i<j:\n",
    "        temp=a[i]\n",
    "        a[i]=a[j]\n",
    "        a[j]=temp\n",
    "        i+=1\n",
    "        j-=1\n",
    "    return a\n",
    "\n",
    "    \n",
    "a=[10,20,30,40,50]\n",
    "func(a)\n"
   ]
  },
  {
   "cell_type": "code",
   "execution_count": 29,
   "metadata": {},
   "outputs": [
    {
     "data": {
      "text/plain": [
       "[0, 10, 20, 30, 40]"
      ]
     },
     "execution_count": 29,
     "metadata": {},
     "output_type": "execute_result"
    }
   ],
   "source": [
    "#right shift by one and set the first val zero\n",
    "def func(a):\n",
    "    i=len(a)-1\n",
    "    while i>0:\n",
    "        a[i]=a[i-1]\n",
    "        i-=1\n",
    "    a[0]=0\n",
    "    return a\n",
    "\n",
    "func(a=[10,20,30,40,50])"
   ]
  },
  {
   "cell_type": "code",
   "execution_count": 30,
   "metadata": {},
   "outputs": [
    {
     "data": {
      "text/plain": [
       "[40, 10, 20, 30]"
      ]
     },
     "execution_count": 30,
     "metadata": {},
     "output_type": "execute_result"
    }
   ],
   "source": [
    "#rotate array\n",
    "def func(a):\n",
    "    i=0\n",
    "    temp=a[len(a)-1]\n",
    "    j=len(a)-1\n",
    "    while j>=0:\n",
    "        a[j]=a[j-1]\n",
    "        j-=1\n",
    "\n",
    "    a[i]=temp\n",
    "    return a\n",
    "\n",
    "func(a=[10,20,30,40])"
   ]
  },
  {
   "cell_type": "code",
   "execution_count": 129,
   "metadata": {},
   "outputs": [
    {
     "data": {
      "text/plain": [
       "[0, 0, 0, 10, 20]"
      ]
     },
     "execution_count": 129,
     "metadata": {},
     "output_type": "execute_result"
    }
   ],
   "source": [
    "#right shift array by k places\n",
    "def func(a,k):\n",
    "    i=len(a)-1\n",
    "\n",
    "    while i>0:\n",
    "        a[i]=a[i-k]\n",
    "        i-=1\n",
    "    for j in range(k):\n",
    "        a[j]=0\n",
    "    return a\n",
    "a=[10,20,30,40,50]\n",
    "k=3\n",
    "func(a,k)"
   ]
  },
  {
   "cell_type": "code",
   "execution_count": 31,
   "metadata": {},
   "outputs": [
    {
     "data": {
      "text/plain": [
       "[1, 66, 2, 3, 4, 6, 0, 0]"
      ]
     },
     "execution_count": 31,
     "metadata": {},
     "output_type": "execute_result"
    }
   ],
   "source": [
    "#add value/inserting in given index\n",
    "def func(array,index,value,size):\n",
    "    i=size-1\n",
    "    while i>=index:\n",
    "        array[i+1]=array[i]\n",
    "        i-=1\n",
    "    array[index]=value\n",
    "    return array\n",
    "\n",
    "array=[1,2,3,4,6,0,0,0]\n",
    "func(array,1,66,5)"
   ]
  },
  {
   "cell_type": "code",
   "execution_count": 141,
   "metadata": {},
   "outputs": [
    {
     "data": {
      "text/plain": [
       "[0, 0, 0, 10, 20]"
      ]
     },
     "execution_count": 141,
     "metadata": {},
     "output_type": "execute_result"
    }
   ],
   "source": [
    "#right rotate\n",
    "def func(a,k):\n",
    "    i=len(a)-1\n",
    "    temp=a[i]\n",
    "    while i>=k:\n",
    "        a[i]=a[i-k]\n",
    "        i-=1\n",
    "    for j in range(k):\n",
    "        a[j]=0\n",
    "    return a\n",
    "\n",
    "a=[10,20,30,40,50]\n",
    "k=3\n",
    "func(a,k)"
   ]
  },
  {
   "cell_type": "code",
   "execution_count": 232,
   "metadata": {},
   "outputs": [
    {
     "name": "stdout",
     "output_type": "stream",
     "text": [
      "[50, 60, 10, 20, 30, 40]\n"
     ]
    }
   ],
   "source": [
    "#left rotate by k position\n",
    "def rotateLeft(a, k):\n",
    "    for q in range(k):\n",
    "        temp= a[0]\n",
    "        i=0\n",
    "        j=len(a)-1\n",
    "        while i<j:\n",
    "            a[i]=a[i+1]\n",
    "            i+=1\n",
    "        a[j]=temp\n",
    "\n",
    "a = [10, 20, 30, 40, 50, 60]\n",
    "rotateLeft(a, 4)\n",
    "print(a)"
   ]
  },
  {
   "cell_type": "code",
   "execution_count": 238,
   "metadata": {},
   "outputs": [
    {
     "name": "stdout",
     "output_type": "stream",
     "text": [
      "[30, 40, 50, 60, 10, 20]\n"
     ]
    }
   ],
   "source": [
    "#right rotate by k pos\n",
    "def rightrotate(a,k):\n",
    "    for j in range(k):\n",
    "        i=len(a)-1\n",
    "        temp=a[i]\n",
    "        while i>0:\n",
    "            a[i]=a[i-1]\n",
    "            i-=1\n",
    "        a[0]=temp\n",
    "\n",
    "a = [10, 20, 30, 40, 50, 60]\n",
    "rightrotate(a, 4)\n",
    "print(a)"
   ]
  },
  {
   "cell_type": "code",
   "execution_count": 71,
   "metadata": {},
   "outputs": [
    {
     "name": "stdout",
     "output_type": "stream",
     "text": [
      "10\n",
      "20\n",
      "30\n",
      "40\n",
      "50\n"
     ]
    }
   ],
   "source": [
    "#forward printing a circular array\n",
    "def printForward(c,start,size):\n",
    "    index=start\n",
    "    i=0\n",
    "    while(i<size):\n",
    "        print(c[index])\n",
    "        index=(index+1)%len(c)\n",
    "        i=i+1\n",
    "circularArray=[30,40,50,0,0,0,0,0,0,10,20] #creating a circular array with start 8 and size 5\n",
    "printForward(circularArray,9,5)"
   ]
  },
  {
   "cell_type": "code",
   "execution_count": 66,
   "metadata": {},
   "outputs": [
    {
     "name": "stdout",
     "output_type": "stream",
     "text": [
      "50\n",
      "40\n",
      "30\n",
      "20\n",
      "10\n"
     ]
    }
   ],
   "source": [
    "#reverse printing a circular array\n",
    "def printReverse(c,start,size):\n",
    "    index=(start+size-1)%len(c)\n",
    "    i=0\n",
    "    while(i<size):\n",
    "        print(c[index])\n",
    "        index=index-1\n",
    "        if(index<0):\n",
    "            index=len(c)-1  \n",
    "        i=i+1\n",
    "circularArray=[40,50,0,0,0,0,0,0,10,20,30] #creating a circular array with start 8 and size 5\n",
    "printReverse(circularArray,8,5)"
   ]
  },
  {
   "cell_type": "code",
   "execution_count": 23,
   "metadata": {},
   "outputs": [
    {
     "name": "stdout",
     "output_type": "stream",
     "text": [
      "[40, 50, 0, 0, 0, 0, 0, 0, 10, 20, 30]\n"
     ]
    }
   ],
   "source": [
    "#converting a circular array to a linear array\n",
    "def circularize(linear,start,size):\n",
    "    circular=[0]*len(linear)\n",
    "    index=start\n",
    "    i=0\n",
    "    while(i<size):\n",
    "        circular[index]=linear[i]\n",
    "        index=(index+1)%len(linear) \n",
    "        i=i+1\n",
    "    return circular\n",
    "linear=[10,20,30,40,50,0,0,0,0,0,0]\n",
    "circ=circularize(linear,8,5)\n",
    "print(circ)"
   ]
  },
  {
   "cell_type": "code",
   "execution_count": 42,
   "metadata": {},
   "outputs": [
    {
     "name": "stdout",
     "output_type": "stream",
     "text": [
      "[40, 50, 0, 0, 10, 20, 30]\n"
     ]
    }
   ],
   "source": [
    "#resizing a circular array\n",
    "def resize(circ,start,size):\n",
    "    new=[0]*(len(circ)+2)\n",
    "    cir_index=start\n",
    "    index_new=start\n",
    "    i=0\n",
    "    while(i<size):\n",
    "        new[index_new]=circ[cir_index]\n",
    "        cir_index=(cir_index+1)%len(circ)\n",
    "        index_new=(index_new+1)%len(new)  \n",
    "        i=i+1\n",
    "    return new\n",
    "circ=[20,30,40,50,10] #creating a circular array with start 4 and size 5\n",
    "circ=resize(circ,4,5) \n",
    "print(circ)"
   ]
  },
  {
   "cell_type": "code",
   "execution_count": 52,
   "metadata": {},
   "outputs": [
    {
     "name": "stdout",
     "output_type": "stream",
     "text": [
      "[0, 0, 1, 2, 3]\n"
     ]
    }
   ],
   "source": [
    "#create circular from linear\n",
    "def func(a,st,sz):\n",
    "    b=[0]*len(a)\n",
    "    index=st\n",
    "    i=0\n",
    "    while i<sz:\n",
    "        b[index]=a[i]\n",
    "        index=index+1%len(a)\n",
    "        i+=1\n",
    "    print(b)\n",
    "a=[1,2,3,0,0]\n",
    "func(a,2,3)\n"
   ]
  },
  {
   "cell_type": "code",
   "execution_count": 72,
   "metadata": {},
   "outputs": [
    {
     "name": "stdout",
     "output_type": "stream",
     "text": [
      "[5, 6, 55, 8, 9]\n"
     ]
    }
   ],
   "source": [
    "def insert(cir,st,sz,item):\n",
    "    if sz<len(cir):\n",
    "        ind=(st+sz)%len(cir)\n",
    "        cir[ind]=item\n",
    "        sz+=1\n",
    "    return cir\n",
    "cir=[5,6,7,8,9]\n",
    "insert(cir,3,4,55)\n",
    "print(cir)"
   ]
  },
  {
   "cell_type": "code",
   "execution_count": 70,
   "metadata": {},
   "outputs": [
    {
     "name": "stdout",
     "output_type": "stream",
     "text": [
      "True\n"
     ]
    }
   ],
   "source": [
    "\n",
    "class Node:\n",
    "    #element - variable used to store the value\n",
    "    #next - variable used to reference to link to the next node\n",
    "    def __init__(self, e, n):\n",
    "        self.element = e \n",
    "        self.next = n\n",
    "#---------------------Tester-----------------------#\n",
    "#Starting of the Node\n",
    "head = None\n",
    "#Creating the nodes first\n",
    "n1 = Node(\"10\",None)\n",
    "n2 = Node(\"20\",None)\n",
    "n1.next = n2\n",
    "#Assigning the head reference to the list\n",
    "head = n1"
   ]
  },
  {
   "cell_type": "code",
   "execution_count": 2,
   "metadata": {},
   "outputs": [
    {
     "name": "stdout",
     "output_type": "stream",
     "text": [
      "1+2*(3/4)\n",
      "This expression is correct.\n",
      "1+2*[3*3+{4-5(6(7/8/9)+10)-11+(12*8)]+14\n",
      "This expression is NOT correct.\n",
      "Error at character # 10. '{'- not closed.\n",
      "1+2*[3*3+{4-5(6(7/8/9)+10)}-11+(12*8)/{13+13}]+14\n",
      "This expression is correct.\n",
      "1+2]*[3*3+{4-5(6(7/8/9)+10)-11+(12*8)]+14\n",
      "This expression is NOT correct.\n",
      "Error at character # 4 ']'- not opened\n"
     ]
    }
   ],
   "source": [
    "# Task 2:\n",
    "class Node:\n",
    "    def __init__(self,value, next = None):\n",
    "        self.value = value\n",
    "        self.next = next\n",
    "\n",
    "class ListStack:\n",
    "    def __init__(self):\n",
    "        self.head = None\n",
    "\n",
    "    def isEmpty(self):\n",
    "        return self.head == None\n",
    "     \n",
    "    def Push(self,value):\n",
    "        if self.head == None:\n",
    "            self.head = Node(value)\n",
    "        else:\n",
    "            newNode = Node(value, self.head)\n",
    "            self.head = newNode\n",
    "     \n",
    "    def Pop(self):\n",
    "        if self.isEmpty():\n",
    "            return None\n",
    "        else:\n",
    "            pNode = self.head\n",
    "            self.head = self.head.next\n",
    "            pNode.next = None\n",
    "            return pNode.value\n",
    "     \n",
    "    def Peek(self):\n",
    "        if self.isEmpty():\n",
    "            return None\n",
    "        else:\n",
    "            return self.head.value\n",
    "\n",
    "def linkedListBasedParamsCheck(expression):\n",
    "    stack = ListStack()\n",
    "    open = [\"(\",\"{\",\"[\"]\n",
    "    close = [\")\",\"}\",\"]\"]\n",
    "\n",
    "    index = 0\n",
    "    lastIndex = ListStack()\n",
    "    for c in expression:\n",
    "        index += 1\n",
    "\n",
    "        if c in open:\n",
    "            lastIndex.Push(index)\n",
    "            stack.Push(c)\n",
    "        elif c in close:\n",
    "            if stack.isEmpty():\n",
    "                print(expression)\n",
    "                print(\"This expression is NOT correct.\")\n",
    "                print(\"Error at character # {} '{}'- not opened\".format(index, c))\n",
    "                return\n",
    "\n",
    "            if  ((c == \")\" and stack.Peek() == \"(\") \n",
    "                or (c == \"}\" and stack.Peek() == \"{\") \n",
    "                or (c == \"]\" and stack.Peek() == \"[\")):\n",
    "\n",
    "                stack.Pop()\n",
    "                lastIndex.Pop()\n",
    "            else:\n",
    "                value = stack.Peek()\n",
    "                print(expression)\n",
    "                print(\"This expression is NOT correct.\")\n",
    "                print(\"Error at character # {}. '{}'- not closed.\".format(lastIndex.Peek(), value))\n",
    "                return\n",
    "    \n",
    "    if stack.isEmpty():\n",
    "        print(expression)\n",
    "        print(\"This expression is correct.\")\n",
    "        return\n",
    "    else:\n",
    "        value = stack.peek()\n",
    "        print(expression)\n",
    "        print(\"This expression is NOT correct.\")\n",
    "        print(\"Error at character # {}. '{}'- not closed.\".format(lastIndex.Peek(), value))\n",
    "        \n",
    "linkedListBasedParamsCheck(\"1+2*(3/4)\")\n",
    "linkedListBasedParamsCheck(\"1+2*[3*3+{4-5(6(7/8/9)+10)-11+(12*8)]+14\")\n",
    "linkedListBasedParamsCheck(\"1+2*[3*3+{4-5(6(7/8/9)+10)}-11+(12*8)/{13+13}]+14\")\n",
    "linkedListBasedParamsCheck(\"1+2]*[3*3+{4-5(6(7/8/9)+10)-11+(12*8)]+14\")"
   ]
  }
 ],
 "metadata": {
  "colab": {
   "collapsed_sections": [],
   "name": "CSE110 Assignment05.ipynb",
   "provenance": []
  },
  "kernelspec": {
   "display_name": "Python 3",
   "language": "python",
   "name": "python3"
  },
  "language_info": {
   "codemirror_mode": {
    "name": "ipython",
    "version": 3
   },
   "file_extension": ".py",
   "mimetype": "text/x-python",
   "name": "python",
   "nbconvert_exporter": "python",
   "pygments_lexer": "ipython3",
   "version": "3.10.2"
  }
 },
 "nbformat": 4,
 "nbformat_minor": 1
}
